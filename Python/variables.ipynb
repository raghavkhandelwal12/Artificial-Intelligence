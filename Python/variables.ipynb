{
 "cells": [
  {
   "cell_type": "markdown",
   "metadata": {},
   "source": [
    "## Variables\n",
    "### Dynamic Data with Variables\n",
    "\n",
    "- Variable are the backbone of any program. They are dynamic containers that allow you to store, update, and manipulate data efficiently.\n",
    "\n",
    "- `What Are Variables` ? \n",
    "    - Variables are like labeled boxes that store information. We can use them to hold numbers, text, or even more complex data.\n",
    "\n",
    "- `Real-World Use Case`:\n",
    "    - Imagine an e-commerce application where we store user prefernces, such as `dark mode` or `default languages`. Variables enable to dynamically update and manage these settings for a personalized user experience..\n",
    "\n",
    "- `Best Practices:`\n",
    "    1. Use meaningful names like `user_name` or `product_price` to improve code readability.\n",
    "\n",
    "    2. Follow `snake_case` naming conventions to maintain consistency.\n",
    "\n",
    "\n",
    "\n",
    "\n"
   ]
  },
  {
   "cell_type": "markdown",
   "metadata": {},
   "source": [
    "# Variable Declarations : Memory Handling at the Core\n",
    "\n",
    "- In Python, variables do not store values directly like in C or C++. Instead, they act as `references(labels)` pointing to objects in `heap memory`.\n",
    "\n",
    "- `Heap memory` is a region of a computer's memory where dynamically allocated objects are stored at runtime. In python ,all objects(e.g, list, dictionaries, user-defined objects) are stored in `heap memory`, and variables act as `references` to these objects.\n"
   ]
  },
  {
   "cell_type": "code",
   "execution_count": 1,
   "metadata": {},
   "outputs": [
    {
     "name": "stdout",
     "output_type": "stream",
     "text": [
      "Alice is 30 years old.\n"
     ]
    }
   ],
   "source": [
    "# Example\n",
    "\n",
    "user_name = \"Alice\"\n",
    "age=30\n",
    "is_active = True\n",
    "print(f\"{user_name} is {age} years old.\")\n"
   ]
  },
  {
   "cell_type": "markdown",
   "metadata": {},
   "source": [
    "1. `Syntax`:\n",
    "\n",
    "```\n",
    "variable_name=value\n",
    "```\n",
    "- Variables in Python are `references to object` rather than memory addresses.\n",
    "\n",
    "- The `CPython interpreter` manages memory using a `private heap`.\n",
    "\n",
    "- The `=` `assignment operator` does not sotre the value directly in the variables, but rather `binds the variable name to an object in memory`."
   ]
  },
  {
   "cell_type": "code",
   "execution_count": 2,
   "metadata": {},
   "outputs": [],
   "source": [
    "# Variable Assignment & References\n",
    "\n",
    "\n",
    "x=10 # 'x' is a reference to an integer object(10) in heap memory\n",
    "y=x  # 'y' now points to the same integer object\n"
   ]
  },
  {
   "cell_type": "markdown",
   "metadata": {},
   "source": [
    "- Python creates an `integer object(10)` in `heap memory`.\n",
    "\n",
    "- The variable `x` is just a `label(references)` pointing to this object.\n",
    "\n",
    "- When `y=x` is assigned, `y` also refers to the same object, now a new copy"
   ]
  },
  {
   "cell_type": "code",
   "execution_count": 3,
   "metadata": {},
   "outputs": [
    {
     "name": "stdout",
     "output_type": "stream",
     "text": [
      "140712673594072\n",
      "140712673594072\n"
     ]
    }
   ],
   "source": [
    "# proof using id() function\n",
    "print(id(x)) # Example: 140732882410416\n",
    "print(id(y))  # Same as 'x', proving both reference the same object\n"
   ]
  },
  {
   "cell_type": "markdown",
   "metadata": {},
   "source": [
    "## Private Heap & Object Management\n",
    "\n",
    "- Python uses a `private heap` where all objects are stored.\n",
    "- The `Python Memory Manager` handles memory allocation and deallocation.\n",
    "- Python uses `Garbage Collection` to free memory when objects are no longer needed."
   ]
  },
  {
   "cell_type": "markdown",
   "metadata": {},
   "source": [
    "# Key Syntax Rules for Variable Assignment\n",
    "\n",
    "1. `Python uses the assignment operator(=)`:\n",
    "\n",
    "    - The left-hand side(`variable_name`) is the `label`(`reference`).\n",
    "    - The right-hand side(`value`) is the `object stored in memory`.\n"
   ]
  },
  {
   "cell_type": "code",
   "execution_count": 4,
   "metadata": {},
   "outputs": [],
   "source": [
    "x=10 # x is reference to the object 10"
   ]
  },
  {
   "cell_type": "markdown",
   "metadata": {},
   "source": [
    "2. `Python does not require explicit type declarations`\n",
    "    - Python `dynamically assign types` based on the assigned value."
   ]
  },
  {
   "cell_type": "code",
   "execution_count": 5,
   "metadata": {},
   "outputs": [],
   "source": [
    "# Example\n",
    "a = \"Hello\" # a is reference to a string object\n",
    "b= 3.14 #b is reference to a float object\n"
   ]
  },
  {
   "cell_type": "markdown",
   "metadata": {},
   "source": [
    "3. `Multiple assignment are possible`:"
   ]
  },
  {
   "cell_type": "code",
   "execution_count": 6,
   "metadata": {},
   "outputs": [],
   "source": [
    "# Example\n",
    "a,b,c=1,2,3 #assign multiple values\n",
    "x=y=z=100   #assign the same value to multiple variables"
   ]
  },
  {
   "cell_type": "markdown",
   "metadata": {},
   "source": [
    "# Explanation: How Python Stores Variables in Memory\n",
    "\n",
    "# Breaking Down\n",
    "    \n",
    "- `variable_name=value`\n",
    "\n",
    "- `variable_name` : The label or identifier for the object.\n",
    "\n",
    "- `=(Assignment Operator)` : Binds the variable name to the \n",
    "object.\n",
    "\n",
    "- `value` : The actual data(Python object) stored in memory."
   ]
  },
  {
   "cell_type": "code",
   "execution_count": 7,
   "metadata": {},
   "outputs": [],
   "source": [
    "x=10"
   ]
  },
  {
   "cell_type": "markdown",
   "metadata": {},
   "source": [
    "- `An integer object(10)` is created in memory.\n",
    "\n",
    "- `x` is assigned as a reference to this object.\n",
    "\n",
    "- if `x` is reassigned(`x=20`),the old reference(10) is removed and the new object (20) is created."
   ]
  },
  {
   "cell_type": "markdown",
   "metadata": {},
   "source": [
    "# Internal Working Memory Management in Python\n",
    "### Reference Counting\n",
    "\n",
    "- Every object in Python `maintains a reference count`(how many variables refer to it).\n",
    "\n",
    "- Python `automatically delete objects` when their references count reaches zero."
   ]
  },
  {
   "cell_type": "markdown",
   "metadata": {},
   "source": [
    "# Checking Reference Count in Python\n"
   ]
  },
  {
   "cell_type": "code",
   "execution_count": 22,
   "metadata": {},
   "outputs": [
    {
     "name": "stdout",
     "output_type": "stream",
     "text": [
      "4294967295\n"
     ]
    }
   ],
   "source": [
    "import sys\n",
    "\n",
    "x = 10\n",
    "print(sys.getrefcount(10))  # Check reference count for 10"
   ]
  },
  {
   "cell_type": "code",
   "execution_count": 23,
   "metadata": {},
   "outputs": [
    {
     "name": "stdout",
     "output_type": "stream",
     "text": [
      "3\n",
      "3\n"
     ]
    }
   ],
   "source": [
    "import sys\n",
    "\n",
    "print(sys.getrefcount(1000))  # Large numbers are not cached, so count is usually 2\n",
    "y = 1000\n",
    "print(sys.getrefcount(1000))  # Now count increases to 3\n"
   ]
  },
  {
   "cell_type": "code",
   "execution_count": 24,
   "metadata": {},
   "outputs": [
    {
     "name": "stdout",
     "output_type": "stream",
     "text": [
      "2\n",
      "3\n"
     ]
    }
   ],
   "source": [
    "import sys\n",
    "\n",
    "x = [1, 2, 3]  \n",
    "print(sys.getrefcount(x))  # Output: 2 (One reference from 'x', one from function call)\n",
    "\n",
    "y = x  \n",
    "print(sys.getrefcount(x))  # Output: 3 (Now 'x', 'y', and function call reference it)\n"
   ]
  },
  {
   "cell_type": "markdown",
   "metadata": {},
   "source": [
    "- This function shows `how many references exist` for a given object."
   ]
  },
  {
   "cell_type": "markdown",
   "metadata": {},
   "source": [
    "# Memory Optimization Internal Mechanism\n",
    "\n",
    "- Small integers between `-5 and 256` are `interned`(preallocate for reuse.)\n",
    "\n",
    "- Frequent used `strings and objects` may also be interned to save memory."
   ]
  },
  {
   "cell_type": "code",
   "execution_count": 28,
   "metadata": {},
   "outputs": [
    {
     "name": "stdout",
     "output_type": "stream",
     "text": [
      "Before Modification:\n",
      "Id of a: 1925060096944 Id of b: 1925060094128 a is b: False\n"
     ]
    }
   ],
   "source": [
    "import sys\n",
    "\n",
    "a=int(1000)\n",
    "b=int(1000)\n",
    "\n",
    "#checking memory addresses\n",
    "print(\"Before Modification:\")\n",
    "print(\"Id of a:\",id(a),\"Id of b:\",id(b),\"a is b:\", a is b)\n"
   ]
  },
  {
   "cell_type": "code",
   "execution_count": 30,
   "metadata": {},
   "outputs": [
    {
     "name": "stdout",
     "output_type": "stream",
     "text": [
      "\n",
      " After modificication:\n",
      "Id of a: 1925060094128 ID of b: 1925060095152 a is b: False\n"
     ]
    }
   ],
   "source": [
    "# force new object cration\n",
    "a=int(1000)+1-1 #trick python into creating a new memory reference\n",
    "b=int(1000)+2-2 # Different expression forces a new memory alloacation\n",
    "print(\"\\n After modificication:\")\n",
    "print(\"Id of a:\",id(a),\"ID of b:\",id(b),\"a is b:\", a is b)"
   ]
  },
  {
   "cell_type": "markdown",
   "metadata": {},
   "source": [
    "## Garbage Collection(Beyond Reference Counting)\n",
    "\n",
    "- Python automatically removed unused object beyond references counting using `garbage collection`\n",
    "\n",
    "- The garbage collector `handle cyclic references` that `references counting alone cannot free`."
   ]
  },
  {
   "cell_type": "code",
   "execution_count": 31,
   "metadata": {},
   "outputs": [
    {
     "data": {
      "text/plain": [
       "434"
      ]
     },
     "execution_count": 31,
     "metadata": {},
     "output_type": "execute_result"
    }
   ],
   "source": [
    "# Example of Garbage Collection\n",
    "\n",
    "import gc\n",
    "\n",
    "class Node:\n",
    "    def __init__(self, value):\n",
    "        self.value=value\n",
    "        self.next=None\n",
    "node1=Node(1)\n",
    "node2=Node(2)\n",
    "node1.next=node2\n",
    "node2.next=node1 #Created a cyclic reference\n",
    "\n",
    "#force garbage collection\n",
    "gc.collect()"
   ]
  },
  {
   "cell_type": "markdown",
   "metadata": {},
   "source": [
    "- The `cyclic reference between` `node1 and node2` is resolved by the garbage collector."
   ]
  },
  {
   "cell_type": "markdown",
   "metadata": {},
   "source": [
    "## Understanding Garbage Collecting in Python\n",
    "\n",
    "### How Python Handles Memory Automatically\n",
    "\n",
    "- Python uses `reference counting` as the primary mechanism for memory management.\n",
    "\n",
    "- When object `no longer have references`, Python `Garbage Collector(GC)` removes them.\n",
    "\n",
    "- The GC also `detects cyclic references` and cleans them up.\n"
   ]
  },
  {
   "cell_type": "markdown",
   "metadata": {},
   "source": [
    "### When to Use Manual Garbage Collection(`gc.collect()`)\n",
    "\n",
    "- For `large datasets` that consumes a lot of memory.\n",
    "\n",
    "- For `application that create cyclic references`(e.g. complex object relationship).\n",
    "\n",
    "- `To optimize long-runnig programs` where automatic cleanup may lag."
   ]
  },
  {
   "cell_type": "markdown",
   "metadata": {},
   "source": [
    "## Forcing Garbage Collection Manually\n"
   ]
  },
  {
   "cell_type": "code",
   "execution_count": 32,
   "metadata": {},
   "outputs": [
    {
     "data": {
      "text/plain": [
       "7"
      ]
     },
     "execution_count": 32,
     "metadata": {},
     "output_type": "execute_result"
    }
   ],
   "source": [
    "import gc\n",
    "gc.collect() #force python to clean up unused object\n"
   ]
  },
  {
   "cell_type": "markdown",
   "metadata": {},
   "source": [
    "- `Best Practices` : Python's automatic grabage collection is efficient, so manual collection should only used for `performance tuning` in large application."
   ]
  },
  {
   "cell_type": "markdown",
   "metadata": {},
   "source": [
    "# Key Takeaways\n",
    "\n",
    "- Python variables are references not memory locations.\n",
    "\n",
    "- The assignment operator(=) binds a variables name to an object in memory.\n",
    "\n",
    "- Reference counting dynamically manages memory allocation by keeping track of the number of references to an object an automatically freeing it when no references remain.\n",
    "\n",
    "- Garbage collection prevents memory leaks by cyclic references.\n",
    "\n",
    "- Interning optimizes memory usuage for frequently used objects."
   ]
  },
  {
   "cell_type": "code",
   "execution_count": 1,
   "metadata": {},
   "outputs": [
    {
     "name": "stdout",
     "output_type": "stream",
     "text": [
      "Error: Notebook does not appear to be JSON: ''\n"
     ]
    }
   ],
   "source": [
    "import nbformat\n",
    "\n",
    "file_path = \"variables.ipynb\"\n",
    "\n",
    "try:\n",
    "    with open(file_path, \"r\", encoding=\"utf-8\") as f:\n",
    "        notebook_data = nbformat.read(f, as_version=4)\n",
    "\n",
    "    with open(\"fixed_variables.ipynb\", \"w\", encoding=\"utf-8\") as f:\n",
    "        nbformat.write(notebook_data, f)\n",
    "\n",
    "    print(\"Notebook fixed and saved as fixed_variables.ipynb\")\n",
    "except Exception as e:\n",
    "    print(f\"Error: {e}\")\n"
   ]
  },
  {
   "cell_type": "code",
   "execution_count": null,
   "metadata": {},
   "outputs": [],
   "source": []
  },
  {
   "cell_type": "markdown",
   "metadata": {},
   "source": [
    "## Variables\n",
    "### Dynamic Data with Variables\n",
    "\n",
    "- Variable are the backbone of any program. They are dynamic containers that allow you to store, update, and manipulate data efficiently.\n",
    "\n",
    "- `What Are Variables` ? \n",
    "    - Variables are like labeled boxes that store information. We can use them to hold numbers, text, or even more complex data.\n",
    "\n",
    "- `Real-World Use Case`:\n",
    "    - Imagine an e-commerce application where we store user prefernces, such as `dark mode` or `default languages`. Variables enable to dynamically update and manage these settings for a personalized user experience..\n",
    "\n",
    "- `Best Practices:`\n",
    "    1. Use meaningful names like `user_name` or `product_price` to improve code readability.\n",
    "\n",
    "    2. Follow `snake_case` naming conventions to maintain consistency.\n",
    "\n",
    "\n",
    "\n",
    "\n"
   ]
  },
  {
   "cell_type": "markdown",
   "metadata": {},
   "source": [
    "# Variable Declarations : Memory Handling at the Core\n",
    "\n",
    "- In Python, variables don't store values directly like in C or C++. Instead, they act as `references(labels)` pointing to objects in `heap memory`.\n",
    "\n",
    "- `Heap memory` is a region of a computer's memory where dynamically allocated objects are stored at runtime. In python ,all objects(e.g, list, dictionaries, user-defined objects) are stored in `heap memory`, and variables act as `references` to these objects.\n"
   ]
  },
  {
   "cell_type": "code",
   "execution_count": null,
   "metadata": {},
   "outputs": [
    {
     "name": "stdout",
     "output_type": "stream",
     "text": [
      "Alice is 30 years old.\n"
     ]
    }
   ],
   "source": [
    "# Example\n",
    "\n",
    "user_name = \"Alice\"\n",
    "age=30\n",
    "is_active = True\n",
    "print(f\"{user_name} is {age} years old.\")\n"
   ]
  },
  {
   "cell_type": "markdown",
   "metadata": {},
   "source": [
    "1. `Syntax`:\n",
    "\n",
    "```\n",
    "variable_name=value\n",
    "```\n",
    "- Variables in Python are `references to object` rather than memory addresses.\n",
    "\n",
    "- The `CPython interpreter` manages memory using a `private heap`.\n",
    "\n",
    "- The `=` `assignment operator` does not sotre the value directly in the variables, but rather `binds the variable name to an object in memory`."
   ]
  },
  {
   "cell_type": "code",
   "execution_count": null,
   "metadata": {},
   "outputs": [],
   "source": [
    "# Variable Assignment & References\n",
    "\n",
    "\n",
    "x=10 # 'x' is a reference to an integer object(10) in heap memory\n",
    "y=x  # 'y' now points to the same integer object\n"
   ]
  },
  {
   "cell_type": "markdown",
   "metadata": {},
   "source": [
    "- Python creates an `integer object(10)` in `heap memory`.\n",
    "\n",
    "- The variable `x` is just a `label(references)` pointing to this object.\n",
    "\n",
    "- When `y=x` is assigned, `y` also refers to the same object, now a new copy"
   ]
  },
  {
   "cell_type": "code",
   "execution_count": null,
   "metadata": {},
   "outputs": [
    {
     "name": "stdout",
     "output_type": "stream",
     "text": [
      "140712673594072\n",
      "140712673594072\n"
     ]
    }
   ],
   "source": [
    "# proof using id() function\n",
    "print(id(x)) # Example: 140732882410416\n",
    "print(id(y))  # Same as 'x', proving both reference the same object\n"
   ]
  },
  {
   "cell_type": "markdown",
   "metadata": {},
   "source": [
    "## Private Heap & Object Management\n",
    "\n",
    "- Python uses a `private heap` where all objects are stored.\n",
    "- The `Python Memory Manager` handles memory allocation and deallocation.\n",
    "- Python uses `Garbage Collection` to free memory when objects are no longer needed."
   ]
  },
  {
   "cell_type": "markdown",
   "metadata": {},
   "source": [
    "# Key Syntax Rules for Variable Assignment\n",
    "\n",
    "1. `Python uses the assignment operator(=)`:\n",
    "\n",
    "    - The left-hand side(`variable_name`) is the `label`(`reference`).\n",
    "    - The right-hand side(`value`) is the `object stored in memory`.\n"
   ]
  },
  {
   "cell_type": "code",
   "execution_count": null,
   "metadata": {},
   "outputs": [],
   "source": [
    "x=10 # x is reference to the object 10"
   ]
  },
  {
   "cell_type": "markdown",
   "metadata": {},
   "source": [
    "2. `Python does not require explicit type declarations`\n",
    "    - Python `dynamically assign types` based on the assigned value."
   ]
  },
  {
   "cell_type": "code",
   "execution_count": null,
   "metadata": {},
   "outputs": [],
   "source": [
    "# Example\n",
    "a = \"Hello\" # a is reference to a string object\n",
    "b= 3.14 #b is reference to a float object\n"
   ]
  },
  {
   "cell_type": "markdown",
   "metadata": {},
   "source": [
    "3. `Multiple assignment are possible`:"
   ]
  },
  {
   "cell_type": "code",
   "execution_count": null,
   "metadata": {},
   "outputs": [],
   "source": [
    "# Example\n",
    "a,b,c=1,2,3 #assign multiple values\n",
    "x=y=z=100   #assign the same value to multiple variables"
   ]
  },
  {
   "cell_type": "markdown",
   "metadata": {},
   "source": [
    "# Explanation: How Python Stores Variables in Memory\n",
    "\n",
    "# Breaking Down\n",
    "    \n",
    "- `variable_name=value`\n",
    "\n",
    "- `variable_name` : The label or identifier for the object.\n",
    "\n",
    "- `=(Assignment Operator)` : Binds the variable name to the \n",
    "object.\n",
    "\n",
    "- `value` : The actual data(Python object) stored in memory."
   ]
  },
  {
   "cell_type": "code",
   "execution_count": null,
   "metadata": {},
   "outputs": [],
   "source": [
    "x=10"
   ]
  },
  {
   "cell_type": "markdown",
   "metadata": {},
   "source": [
    "- `An integer object(10)` is created in memory.\n",
    "\n",
    "- `x` is assigned as a reference to this object.\n",
    "\n",
    "- if `x` is reassigned(`x=20`),the old reference(10) is removed and the new object (20) is created."
   ]
  },
  {
   "cell_type": "markdown",
   "metadata": {},
   "source": [
    "# Internal Working Memory Management in Python\n",
    "### Reference Counting\n",
    "\n",
    "- Every object in Python `maintains a reference count`(how many variables refer to it).\n",
    "\n",
    "- Python `automatically delete objects` when their references count reaches zero."
   ]
  },
  {
   "cell_type": "markdown",
   "metadata": {},
   "source": [
    "# Checking Reference Count in Python\n"
   ]
  },
  {
   "cell_type": "code",
   "execution_count": null,
   "metadata": {},
   "outputs": [
    {
     "name": "stdout",
     "output_type": "stream",
     "text": [
      "4294967295\n"
     ]
    }
   ],
   "source": [
    "import sys\n",
    "\n",
    "x = 10\n",
    "print(sys.getrefcount(10))  # Check reference count for 10"
   ]
  },
  {
   "cell_type": "code",
   "execution_count": null,
   "metadata": {},
   "outputs": [
    {
     "name": "stdout",
     "output_type": "stream",
     "text": [
      "3\n",
      "3\n"
     ]
    }
   ],
   "source": [
    "import sys\n",
    "\n",
    "print(sys.getrefcount(1000))  # Large numbers are not cached, so count is usually 2\n",
    "y = 1000\n",
    "print(sys.getrefcount(1000))  # Now count increases to 3\n"
   ]
  },
  {
   "cell_type": "code",
   "execution_count": null,
   "metadata": {},
   "outputs": [
    {
     "name": "stdout",
     "output_type": "stream",
     "text": [
      "2\n",
      "3\n"
     ]
    }
   ],
   "source": [
    "import sys\n",
    "\n",
    "x = [1, 2, 3]  \n",
    "print(sys.getrefcount(x))  # Output: 2 (One reference from 'x', one from function call)\n",
    "\n",
    "y = x  \n",
    "print(sys.getrefcount(x))  # Output: 3 (Now 'x', 'y', and function call reference it)\n"
   ]
  },
  {
   "cell_type": "markdown",
   "metadata": {},
   "source": [
    "- This function shows `how many references exist` for a given object."
   ]
  },
  {
   "cell_type": "markdown",
   "metadata": {},
   "source": [
    "# Memory Optimization Internal Mechanism\n",
    "\n",
    "- Small integers between `-5 and 256` are `interned`(preallocate for reuse.)\n",
    "\n",
    "- Frequent used `strings and objects` may also be interned to save memory."
   ]
  },
  {
   "cell_type": "code",
   "execution_count": null,
   "metadata": {},
   "outputs": [
    {
     "name": "stdout",
     "output_type": "stream",
     "text": [
      "Before Modification:\n",
      "Id of a: 1925060096944 Id of b: 1925060094128 a is b: False\n"
     ]
    }
   ],
   "source": [
    "import sys\n",
    "\n",
    "a=int(1000)\n",
    "b=int(1000)\n",
    "\n",
    "#checking memory addresses\n",
    "print(\"Before Modification:\")\n",
    "print(\"Id of a:\",id(a),\"Id of b:\",id(b),\"a is b:\", a is b)\n"
   ]
  },
  {
   "cell_type": "code",
   "execution_count": null,
   "metadata": {},
   "outputs": [
    {
     "name": "stdout",
     "output_type": "stream",
     "text": [
      "\n",
      " After modificication:\n",
      "Id of a: 1925060094128 ID of b: 1925060095152 a is b: False\n"
     ]
    }
   ],
   "source": [
    "# force new object cration\n",
    "a=int(1000)+1-1 #trick python into creating a new memory reference\n",
    "b=int(1000)+2-2 # Different expression forces a new memory alloacation\n",
    "print(\"\\n After modificication:\")\n",
    "print(\"Id of a:\",id(a),\"ID of b:\",id(b),\"a is b:\", a is b)"
   ]
  },
  {
   "cell_type": "markdown",
   "metadata": {},
   "source": [
    "## Garbage Collection(Beyond Reference Counting)\n",
    "\n",
    "- Python automatically removed unused object beyond references counting using `garbage collection`\n",
    "\n",
    "- The garbage collector `handle cyclic references` that `references counting alone cannot free`."
   ]
  },
  {
   "cell_type": "code",
   "execution_count": null,
   "metadata": {},
   "outputs": [
    {
     "data": {
      "text/plain": [
       "434"
      ]
     },
     "metadata": {},
     "output_type": "display_data"
    }
   ],
   "source": [
    "# Example of Garbage Collection\n",
    "\n",
    "import gc\n",
    "\n",
    "class Node:\n",
    "    def __init__(self, value):\n",
    "        self.value=value\n",
    "        self.next=None\n",
    "node1=Node(1)\n",
    "node2=Node(2)\n",
    "node1.next=node2\n",
    "node2.next=node1 #Created a cyclic reference\n",
    "\n",
    "#force garbage collection\n",
    "gc.collect()"
   ]
  },
  {
   "cell_type": "markdown",
   "metadata": {},
   "source": [
    "- The `cyclic reference between` `node1 and node2` is resolved by the garbage collector."
   ]
  },
  {
   "cell_type": "markdown",
   "metadata": {},
   "source": [
    "## Understanding Garbage Collecting in Python\n",
    "\n",
    "### How Python Handles Memory Automatically\n",
    "\n",
    "- Python uses `reference counting` as the primary mechanism for memory management.\n",
    "\n",
    "- When object `no longer have references`, Python `Garbage Collector(GC)` removes them.\n",
    "\n",
    "- The GC also `detects cyclic references` and cleans them up.\n"
   ]
  },
  {
   "cell_type": "markdown",
   "metadata": {},
   "source": [
    "### When to Use Manual Garbage Collection(`gc.collect()`)\n",
    "\n",
    "- For `large datasets` that consumes a lot of memory.\n",
    "\n",
    "- For `application that create cyclic references`(e.g. complex object relationship).\n",
    "\n",
    "- `To optimize long-runnig programs` where automatic cleanup may lag."
   ]
  },
  {
   "cell_type": "markdown",
   "metadata": {},
   "source": [
    "## Forcing Garbage Collection Manually\n"
   ]
  },
  {
   "cell_type": "code",
   "execution_count": null,
   "metadata": {},
   "outputs": [
    {
     "data": {
      "text/plain": [
       "7"
      ]
     },
     "metadata": {},
     "output_type": "display_data"
    }
   ],
   "source": [
    "import gc\n",
    "gc.collect() #force python to clean up unused object\n"
   ]
  },
  {
   "cell_type": "markdown",
   "metadata": {},
   "source": [
    "- `Best Practices` : Python's automatic grabage collection is efficient, so manual collection should only used for `performance tuning` in large application."
   ]
  },
  {
   "cell_type": "markdown",
   "metadata": {},
   "source": [
    "# Key Takeaways\n",
    "\n",
    "- Python variables are references not memory locations.\n",
    "\n",
    "- The assignment operator(=) binds a variables name to an object in memory.\n",
    "\n",
    "- Reference counting dynamically manages memory allocation by keeping track of the number of references to an object an automatically freeing it when no references remain.\n",
    "\n",
    "- Garbage collection prevents memory leaks by cyclic references.\n",
    "\n",
    "- Interning optimizes memory usuage for frequently used objects."
   ]
  },
  {
   "cell_type": "markdown",
   "metadata": {},
   "source": []
  }
 ],
 "metadata": {
  "kernelspec": {
   "display_name": "Python 3",
   "language": "python",
   "name": "python3"
  },
  "language_info": {
   "codemirror_mode": {
    "name": "ipython",
    "version": 3
   },
   "file_extension": ".py",
   "mimetype": "text/x-python",
   "name": "python",
   "nbconvert_exporter": "python",
   "pygments_lexer": "ipython3",
   "version": "3.12.0"
  }
 },
 "nbformat": 4,
 "nbformat_minor": 2
}
