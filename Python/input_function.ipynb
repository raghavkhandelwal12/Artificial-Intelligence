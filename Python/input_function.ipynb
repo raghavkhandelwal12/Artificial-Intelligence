object		{4}
	cells		[33]
	0		{3}
cell_type	:	markdown
	metadata		{0}
(empty object)
	source		[11]
0	:	# Taking Input in Python: input(), Data Conversion & Internal Execution\n
1	:	\n
2	:	1. `Read User Input` - `input()` waits for the user to type and press enter.\n
3	:	\n
4	:	2. `Standard Input(stdin)` : The input is taken as `string` from the system's `stdin buffer`.\n
5	:	\n
6	:	3. `Memory Allocation` : The entered strings is stored in memory until assigned to a variable.\n
7	:	\n
8	:	4. `Blocking Operations` : Exectuion halts until input is provided.\n
9	:	\n
10	:	5. `Optimization Tip` - Converts input to the require type (`int(input())` ti avoid type issues.
	1		{3}
cell_type	:	markdown
	metadata		{0}
(empty object)
	source		[8]
0	:	# Syntax & Structure\n
1	:	### Why is Understanding `input()` important?\n
2	:	\n
3	:	- Helps build `interactive programs` (CLI applications, chatbots,user-driven scripts)\n
4	:	\n
5	:	- Avoid `data type mismatches` by properly handling conversions.\n
6	:	\n
7	:	- `Optimizes `user input handling` for better performance and security.\n
	2		{3}
cell_type	:	markdown
	metadata		{0}
(empty object)
	source		[1]
0	:	###
	3		{5}
cell_type	:	code
execution_count	:	2
	metadata		{0}
(empty object)
	outputs		[0]
(empty array)
	source		[3]
0	:	# Basic Syntax of input()\n
1	:	\n
2	:	variable=input(\"promt message\")
	4		{3}
cell_type	:	markdown
	metadata		{0}
(empty object)
	source		[5]
0	:	## Explanation\n
1	:	\n
2	:	- `variable` : Stores the user's input.\n
3	:	- `input(\"Prmot message\")`: Displays a message and `wait for the user` to enter a value.\n
4	:	- `The `input always stored as a string` even if the users enters a numbers.
	5		{5}
cell_type	:	code
execution_count	:	6
	metadata		{0}
(empty object)
	outputs		[1]
	0		{3}
name	:	stdout
output_type	:	stream
	text		[1]
0	:	Hello, raghav Your are 21 years old\n
	source		[4]
0	:	# Example of caputring user input\n
1	:	name=input(\"enter your name:\")\n
2	:	age=input(\"enter your age:\")\n
3	:	print(\"Hello,\",name,\"Your are\",age,\"years old\")
	6		{3}
cell_type	:	markdown
	metadata		{0}
(empty object)
	source		[10]
0	:	## How `input()` works internally\n
1	:	### Breaking Down `input()` Execution\n
2	:	\n
3	:	1. `Pauses program execution` and waits for the user to type input.\n
4	:	\n
5	:	2. `Read input as a string`(even if the users enters number)\n
6	:	\n
7	:	3. `Stores the input in memory` as a dynamically allocated object.\n
8	:	\n
9	:	4. `Returns the input as a strings`, which can be further processed.
	7		{5}
cell_type	:	code
execution_count	:	10
	metadata		{0}
(empty object)
	outputs		[1]
	0		{3}
name	:	stdout
output_type	:	stream
	text		[2]
0	:	You entered: 123\n
1	:	<class 'str'>\n
	source		[3]
0	:	user_input=input(\"enter something\")\n
1	:	print(\"You entered:\",user_input)\n
2	:	print(type(user_input))
	8		{3}
cell_type	:	markdown
	metadata		{0}
(empty object)
	source		[3]
0	:	- Even if the user enters `123`,it will be stored as `\"123\"`(string).\n
1	:	\n
2	:	- To use it as an `integer`,explicit conversion required.(`int(user_input`))
	9		{5}
cell_type	:	code
execution_count	:	null
	metadata		{0}
(empty object)
	outputs		[1]
	0		{3}
name	:	stdout
output_type	:	stream
	text		[4]
0	:	1 2.0 True\n
1	:	1\n
2	:	2.0\n
3	:	True\n
	source		[11]
0	:	## Handling Different Input Data Types\n
1	:	### Converting Input to Other Data Types\n
2	:	\n
3	:	num = int(input(\"Enter a number: \"))  # Converts input string to an integer\n
4	:	pi = float(input(\"Enter a decimal number: \"))  # Converts input string to float\n
5	:	is_active = bool(int(input(\"Enter 1 for True, 0 for False: \")))  # Converts input to boolean\n
6	:	\n
7	:	print(num, pi, is_active)\n
8	:	print(num)\n
9	:	print(pi)\n
10	:	print(is_active)\n
	10		{3}
cell_type	:	markdown
	metadata		{0}
(empty object)
	source		[5]
0	:	## Key Takaways\n
1	:	\n
2	:	- `int()` : Converts input to an `integer`.\n
3	:	- `float()` : Converts input a `floating point number`.\n
4	:	- `bool(int())` : Converts `1 to True and 0 to False`.
	11		{5}
cell_type	:	code
execution_count	:	null
	metadata		{0}
(empty object)
	outputs		[1]
	0		{3}
name	:	stdout
output_type	:	stream
	text		[2]
0	:	10 20\n
1	:	sum 30\n
	source		[6]
0	:	# Handling Multiple Inputs at Once\n
1	:	x,y=map(int,input(\"enter two number seperated by 't':\").split('t'))\n
2	:	print(x,y)\n
3	:	print(\"sum\", x+y)\n
4	:	\n
5	:	\n
	12		{3}
cell_type	:	markdown
	metadata		{0}
(empty object)
	source		[4]
0	:	# How it Work?\n
1	:	\n
2	:	- `split()` breakes the input string into a list.\n
3	:	- `map(int,...)` converts each value to an integer.\n
	13		{3}
cell_type	:	markdown
	metadata		{0}
(empty object)
	source		[5]
0	:	## Handline Edge Cases in `input()`\n
1	:	\n
2	:	### Why Handling Input Errors is Important?\n
3	:	\n
4	:	- Users inputs are `unpredictable` to `prevent creashes`, error handling is essential.
	14		{5}
cell_type	:	code
execution_count	:	34
	metadata		{0}
(empty object)
	outputs		[1]
	0		{3}
name	:	stdout
output_type	:	stream
	text		[1]
0	:	Invalid input!please enter a number\n
	source		[6]
0	:	# Handling Invalid Data(try-except)\n
1	:	try:\n
2	:	    age=int(input(\"enter your age:\"))\n
3	:	    print(\"your age is\",age)\n
4	:	except ValueError:\n
5	:	    print(\"Invalid input!please enter a number\")
	15		{3}
cell_type	:	markdown
	metadata		{0}
(empty object)
	source		[5]
0	:	# Example Output\n
1	:	```\n
2	:	Enter your age: twenty\n
3	:	Invalid input! Please enter a number.\n
4	:	```\n
	16		{3}
cell_type	:	markdown
	metadata		{0}
(empty object)
	source		[1]
0	:	- Prevent crashes when a user enters `non-numeric input`.
	17		{5}
cell_type	:	code
execution_count	:	38
	metadata		{0}
(empty object)
	outputs		[1]
	0		{3}
name	:	stdout
output_type	:	stream
	text		[1]
0	:	Welcome, people\n
	source		[3]
0	:	# Providing Default Values\n
1	:	name=input(\"enter your name\") or \"people\"\n
2	:	print(\"Welcome,\",name)
	18		{3}
cell_type	:	markdown
	metadata		{0}
(empty object)
	source		[5]
0	:	- `Example Input` : (User presses enter without typing anything)\n
1	:	\n
2	:	```\n
3	:	press(enter)\n
4	:	```
	19		{3}
cell_type	:	markdown
	metadata		{0}
(empty object)
	source		[4]
0	:	- Output\n
1	:	```\n
2	:	Welcome,people\n
3	:	```
	20		{3}
cell_type	:	markdown
	metadata		{0}
(empty object)
	source		[3]
0	:	- How it Works?\n
1	:	\n
2	:	    - `or people` ensures a default value if the user enter nothing.
	21		{3}
cell_type	:	markdown
	metadata		{0}
(empty object)
	source		[3]
0	:	## Advanced Techniques For Taking Input\n
1	:	\n
2	:	- Reading a input without a Newline (`sys.stdin.read())` useful when handling `large input at once`(like reading from files).
	22		{5}
cell_type	:	code
execution_count	:	null
	metadata		{0}
(empty object)
	outputs		[0]
(empty array)
	source		[0]
(empty array)
	23		{3}
cell_type	:	markdown
	metadata		{0}
(empty object)
	source		[1]
0	:	- Unlike `input()`,this read all available `input until EOF(End of File).`
	24		{3}
cell_type	:	markdown
	metadata		{0}
(empty object)
	source		[1]
0	:	# Using `getpass()` for Secure input(Passowrds)
	25		{5}
cell_type	:	code
execution_count	:	3
	metadata		{0}
(empty object)
	outputs		[1]
	0		{3}
name	:	stdout
output_type	:	stream
	text		[2]
0	:	23456\n
1	:	Password entered(hidden for security)\n
	source		[4]
0	:	from getpass import getpass\n
1	:	password=getpass(\"Enter your password\")\n
2	:	print(password)\n
3	:	print(\"Password entered(hidden for security)\")
	26		{3}
cell_type	:	markdown
	metadata		{0}
(empty object)
	source		[4]
0	:	# Why Use `getpass()` Instead of `input()`?\n
1	:	\n
2	:	- `Prevent passwords from being displayed on the screen`.\n
3	:	- `safer than using input() for sensitive data`.\n
	27		{3}
cell_type	:	markdown
	metadata		{0}
(empty object)
	source		[6]
0	:	## Optimize User Input Handling for Performance\n
1	:	### Why Optimize Input Handling?\n
2	:	\n
3	:	- Handling large amounts of input efficiently imporves performance.\n
4	:	\n
5	:	- Essential for `competitive programming,data processing,and real time application`.
	28		{5}
cell_type	:	code
execution_count	:	null
	metadata		{0}
(empty object)
	outputs		[0]
(empty array)
	source		[3]
0	:	import sys\n
1	:	num = int(sys.stdin.readline().strip())  # Faster than input() for large input\n
2	:	print(\"You entered:\", num)
	29		{3}
cell_type	:	markdown
	metadata		{0}
(empty object)
	source		[4]
0	:	# Why `sys.stdin.readline()`?\n
1	:	\n
2	:	- `~10x faster` than `input()` for reading large data points.\n
3	:	- Remove trailing newline with `.strip()`.
	30		{3}
cell_type	:	markdown
	metadata		{0}
(empty object)
	source		[7]
0	:	# Key Takeways\n
1	:	\n
2	:	- `input()` always returns a string requiring `type conversion` when necessary.\n
3	:	- Use `try-except` to prevent crashes form invalid user input.\n
4	:	- `Multiple values` can be taken using `split` and `map()`\n
5	:	- Use `getpass()` for secure password entry.\n
6	:	- For `large input`,use `sys.stdin.readline()` for better performance.
	31		{5}
cell_type	:	code
execution_count	:	null
	metadata		{0}
(empty object)
	outputs		[0]
(empty array)
	source		[13]
0	:	import sys\n
1	:	\n
2	:	lines = []\n
3	:	for line in sys.stdin:\n
4	:	    line = line.strip()\n
5	:	    if line:\n
6	:	        lines.append(line)\n
7	:	        print(\"You entered:\", line)\n
8	:	\n
9	:	# Optional: Print all inputs at the end\n
10	:	print(\"\\nAll Inputs:\")\n
11	:	for line in lines:\n
12	:	    print(line)
	32		{5}
cell_type	:	code
execution_count	:	null
	metadata		{0}
(empty object)
	outputs		[0]
(empty array)
	source		[0]
(empty array)
	metadata		{2}
	kernelspec		{3}
display_name	:	Python 3
language	:	python
name	:	python3
	language_info		{7}
	codemirror_mode		{2}
name	:	ipython
version	:	3
file_extension	:	.py
mimetype	:	text/x-python
name	:	python
nbconvert_exporter	:	python
pygments_lexer	:	ipython3
version	:	3.12.0
nbformat	:	4
nbformat_minor	:	2
