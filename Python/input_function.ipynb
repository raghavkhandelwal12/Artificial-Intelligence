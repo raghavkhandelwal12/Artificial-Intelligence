{
  "cells": [
    {
      "cell_type": "markdown",
      "metadata": {},
      "source": [
        "# Taking Input in Python: input(), Data Conversion & Internal Execution\n",
        "\n",
        "1. `Read User Input` - `input()` waits for the user to type and press enter.\n",
        "\n",
        "2. `Standard Input(stdin)` : The input is taken as `string` from the system's `stdin buffer`.\n",
        "\n",
        "3. `Memory Allocation` : The entered strings is stored in memory until assigned to a variable.\n",
        "\n",
        "4. `Blocking Operations` : Exectuion halts until input is provided.\n",
        "\n",
        "5. `Optimization Tip` - Converts input to the require type (`int(input())` ti avoid type issues."
      ]
    },
    {
      "cell_type": "markdown",
      "metadata": {},
      "source": [
        "# Syntax & Structure\n",
        "### Why is Understanding `input()` important?\n",
        "\n",
        "- Helps build `interactive programs` (CLI applications, chatbots,user-driven scripts)\n",
        "\n",
        "- Avoid `data type mismatches` by properly handling conversions.\n",
        "\n",
        "- `Optimizes `user input handling` for better performance and security.\n"
      ]
    },
    {
      "cell_type": "markdown",
      "metadata": {},
      "source": [
        "###"
      ]
    },
    {
      "cell_type": "code",
      "execution_count": 2,
      "metadata": {},
      "outputs": [],
      "source": [
        "# Basic Syntax of input()\n",
        "\n",
        "variable=input(\"promt message\")"
      ]
    },
    {
      "cell_type": "markdown",
      "metadata": {},
      "source": [
        "## Explanation\n",
        "\n",
        "- `variable` : Stores the user's input.\n",
        "- `input(\"Prmot message\")`: Displays a message and `wait for the user` to enter a value.\n",
        "- `The `input always stored as a string` even if the users enters a numbers."
      ]
    },
    {
      "cell_type": "code",
      "execution_count": 6,
      "metadata": {},
      "outputs": [
        {
          "name": "stdout",
          "output_type": "stream",
          "text": [
            "Hello, raghav Your are 21 years old\n"
          ]
        }
      ],
      "source": [
        "# Example of caputring user input\n",
        "name=input(\"enter your name:\")\n",
        "age=input(\"enter your age:\")\n",
        "print(\"Hello,\",name,\"Your are\",age,\"years old\")"
      ]
    },
    {
      "cell_type": "markdown",
      "metadata": {},
      "source": [
        "## How `input()` works internally\n",
        "### Breaking Down `input()` Execution\n",
        "\n",
        "1. `Pauses program execution` and waits for the user to type input.\n",
        "\n",
        "2. `Read input as a string`(even if the users enters number)\n",
        "\n",
        "3. `Stores the input in memory` as a dynamically allocated object.\n",
        "\n",
        "4. `Returns the input as a strings`, which can be further processed."
      ]
    },
    {
      "cell_type": "code",
      "execution_count": 10,
      "metadata": {},
      "outputs": [
        {
          "name": "stdout",
          "output_type": "stream",
          "text": [
            "You entered: 123\n",
            "<class 'str'>\n"
          ]
        }
      ],
      "source": [
        "user_input=input(\"enter something\")\n",
        "print(\"You entered:\",user_input)\n",
        "print(type(user_input))"
      ]
    },
    {
      "cell_type": "markdown",
      "metadata": {},
      "source": [
        "- Even if the user enters `123`,it will be stored as `\"123\"`(string).\n",
        "\n",
        "- To use it as an `integer`,explicit conversion required.(`int(user_input`))"
      ]
    },
    {
      "cell_type": "code",
      "execution_count": null,
      "metadata": {},
      "outputs": [
        {
          "name": "stdout",
          "output_type": "stream",
          "text": [
            "1 2.0 True\n",
            "1\n",
            "2.0\n",
            "True\n"
          ]
        }
      ],
      "source": [
        "## Handling Different Input Data Types\n",
        "### Converting Input to Other Data Types\n",
        "\n",
        "num = int(input(\"Enter a number: \"))  # Converts input string to an integer\n",
        "pi = float(input(\"Enter a decimal number: \"))  # Converts input string to float\n",
        "is_active = bool(int(input(\"Enter 1 for True, 0 for False: \")))  # Converts input to boolean\n",
        "\n",
        "print(num, pi, is_active)\n",
        "print(num)\n",
        "print(pi)\n",
        "print(is_active)\n"
      ]
    },
    {
      "cell_type": "markdown",
      "metadata": {},
      "source": [
        "## Key Takaways\n",
        "\n",
        "- `int()` : Converts input to an `integer`.\n",
        "- `float()` : Converts input a `floating point number`.\n",
        "- `bool(int())` : Converts `1 to True and 0 to False`."
      ]
    },
    {
      "cell_type": "code",
      "execution_count": null,
      "metadata": {},
      "outputs": [
        {
          "name": "stdout",
          "output_type": "stream",
          "text": [
            "10 20\n",
            "sum 30\n"
          ]
        }
      ],
      "source": [
        "# Handling Multiple Inputs at Once\n",
        "x,y=map(int,input(\"enter two number seperated by 't':\").split('t'))\n",
        "print(x,y)\n",
        "print(\"sum\", x+y)\n",
        "\n",
        "\n"
      ]
    },
    {
      "cell_type": "markdown",
      "metadata": {},
      "source": [
        "# How it Work?\n",
        "\n",
        "- `split()` breakes the input string into a list.\n",
        "- `map(int,...)` converts each value to an integer.\n"
      ]
    },
    {
      "cell_type": "markdown",
      "metadata": {},
      "source": [
        "## Handline Edge Cases in `input()`\n",
        "\n",
        "### Why Handling Input Errors is Important?\n",
        "\n",
        "- Users inputs are `unpredictable` to `prevent creashes`, error handling is essential."
      ]
    },
    {
      "cell_type": "code",
      "execution_count": 34,
      "metadata": {},
      "outputs": [
        {
          "name": "stdout",
          "output_type": "stream",
          "text": [
            "Invalid input!please enter a number\n"
          ]
        }
      ],
      "source": [
        "# Handling Invalid Data(try-except)\n",
        "try:\n",
        "    age=int(input(\"enter your age:\"))\n",
        "    print(\"your age is\",age)\n",
        "except ValueError:\n",
        "    print(\"Invalid input!please enter a number\")"
      ]
    },
    {
      "cell_type": "markdown",
      "metadata": {},
      "source": [
        "# Example Output\n",
        "```\n",
        "Enter your age: twenty\n",
        "Invalid input! Please enter a number.\n",
        "```\n"
      ]
    },
    {
      "cell_type": "markdown",
      "metadata": {},
      "source": [
        "- Prevent crashes when a user enters `non-numeric input`."
      ]
    },
    {
      "cell_type": "code",
      "execution_count": 38,
      "metadata": {},
      "outputs": [
        {
          "name": "stdout",
          "output_type": "stream",
          "text": [
            "Welcome, people\n"
          ]
        }
      ],
      "source": [
        "# Providing Default Values\n",
        "name=input(\"enter your name\") or \"people\"\n",
        "print(\"Welcome,\",name)"
      ]
    },
    {
      "cell_type": "markdown",
      "metadata": {},
      "source": [
        "- `Example Input` : (User presses enter without typing anything)\n",
        "\n",
        "```\n",
        "press(enter)\n",
        "```"
      ]
    },
    {
      "cell_type": "markdown",
      "metadata": {},
      "source": [
        "- Output\n",
        "```\n",
        "Welcome,people\n",
        "```"
      ]
    },
    {
      "cell_type": "markdown",
      "metadata": {},
      "source": [
        "- How it Works?\n",
        "\n",
        "    - `or people` ensures a default value if the user enter nothing."
      ]
    },
    {
      "cell_type": "markdown",
      "metadata": {},
      "source": [
        "## Advanced Techniques For Taking Input\n",
        "\n",
        "- Reading a input without a Newline (`sys.stdin.read())` useful when handling `large input at once`(like reading from files)."
      ]
    },
    {
      "cell_type": "code",
      "execution_count": null,
      "metadata": {},
      "outputs": [],
      "source": []
    },
    {
      "cell_type": "markdown",
      "metadata": {},
      "source": [
        "- Unlike `input()`,this read all available `input until EOF(End of File).`"
      ]
    },
    {
      "cell_type": "markdown",
      "metadata": {},
      "source": [
        "# Using `getpass()` for Secure input(Passowrds)"
      ]
    },
    {
      "cell_type": "code",
      "execution_count": 3,
      "metadata": {},
      "outputs": [
        {
          "name": "stdout",
          "output_type": "stream",
          "text": [
            "23456\n",
            "Password entered(hidden for security)\n"
          ]
        }
      ],
      "source": [
        "from getpass import getpass\n",
        "password=getpass(\"Enter your password\")\n",
        "print(password)\n",
        "print(\"Password entered(hidden for security)\")"
      ]
    },
    {
      "cell_type": "markdown",
      "metadata": {},
      "source": [
        "# Why Use `getpass()` Instead of `input()`?\n",
        "\n",
        "- `Prevent passwords from being displayed on the screen`.\n",
        "- `safer than using input() for sensitive data`.\n"
      ]
    },
    {
      "cell_type": "markdown",
      "metadata": {},
      "source": [
        "## Optimize User Input Handling for Performance\n",
        "### Why Optimize Input Handling?\n",
        "\n",
        "- Handling large amounts of input efficiently imporves performance.\n",
        "\n",
        "- Essential for `competitive programming,data processing,and real time application`."
      ]
    },
    {
      "cell_type": "code",
      "execution_count": null,
      "metadata": {},
      "outputs": [],
      "source": [
        "import sys\n",
        "num = int(sys.stdin.readline().strip())  # Faster than input() for large input\n",
        "print(\"You entered:\", num)"
      ]
    },
    {
      "cell_type": "markdown",
      "metadata": {},
      "source": [
        "# Why `sys.stdin.readline()`?\n",
        "\n",
        "- `~10x faster` than `input()` for reading large data points.\n",
        "- Remove trailing newline with `.strip()`."
      ]
    },
    {
      "cell_type": "markdown",
      "metadata": {},
      "source": [
        "# Key Takeways\n",
        "\n",
        "- `input()` always returns a string requiring `type conversion` when necessary.\n",
        "- Use `try-except` to prevent crashes form invalid user input.\n",
        "- `Multiple values` can be taken using `split` and `map()`\n",
        "- Use `getpass()` for secure password entry.\n",
        "- For `large input`,use `sys.stdin.readline()` for better performance."
      ]
    },
    {
      "cell_type": "code",
      "execution_count": null,
      "metadata": {},
      "outputs": [],
      "source": [
        "import sys\n",
        "\n",
        "lines = []\n",
        "for line in sys.stdin:\n",
        "    line = line.strip()\n",
        "    if line:\n",
        "        lines.append(line)\n",
        "        print(\"You entered:\", line)\n",
        "\n",
        "# Optional: Print all inputs at the end\n",
        "print(\"\\nAll Inputs:\")\n",
        "for line in lines:\n",
        "    print(line)"
      ]
    },
    {
      "cell_type": "code",
      "execution_count": null,
      "metadata": {},
      "outputs": [],
      "source": []
    }
  ],
  "metadata": {
    "kernelspec": {
      "display_name": "Python 3",
      "language": "python",
      "name": "python3"
    },
    "language_info": {
      "codemirror_mode": {
        "name": "ipython",
        "version": 3
      },
      "file_extension": ".py",
      "mimetype": "text/x-python",
      "name": "python",
      "nbconvert_exporter": "python",
      "pygments_lexer": "ipython3",
      "version": "3.12.0"
    }
  },
  "nbformat": 4,
  "nbformat_minor": 2
}
