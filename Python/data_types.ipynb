{
  "title": "Data Types in Python: Memory Management & Internal Representation",
  "concepts": {
    "Dynamic Typing": "No explicit type declarations. The interpreter determines the variable's type at runtime.",
    "Memory Management": "Python uses automatic garbage collection and reference counting for efficient memory handling.",
    "Object Storage": "Variables are references to objects in the heap memory.",
    "Type Determination": "The type of a variable is set based on its assigned value at runtime.",
    "Efficiency": "Understanding memory management helps optimize code and avoid unnecessary object creation.",
    "Type Flexibility": "Variables can change type during runtime."
  },
  "syntax": {
    "data_types": {
      "int": "int_var = 10",
      "float": "float_var = 3.14",
      "string": "str_var = 'Hello, World!'",
      "boolean": "bool_var = True",
      "tuple": "tuple_var = (1, 2, 3, 4, 5)",
      "frozenset": "frozenset_var = frozenset({1, 2, 3})",
      "complex": "complex_var = 3 + 5j",
      "bytes": "bytes_var = b'Python'",
      "none": "none_var = None",
      "mutable": {
        "list": "list_var = ['apple', 'banana', 'cherry']",
        "set": "set_var = {1, 2, 3, 4, 5}",
        "dictionary": "dict_var = {'name': 'John', 'age': 25}"
      }
    }
  },
  "memory_storage": {
    "variable_assignment": {
      "example": {
        "int": "x = 10",
        "float": "y = 3.14",
        "string": "z = 'hello'"
      },
      "internal_working": {
        "variable_name": "Acts as a label that references the object in memory.",
        "assignment_operator": "Binds the variable name to an object.",
        "value": "The actual data (Python object) stored in memory."
      }
    },
    "immutable_types": [
      "int",
      "float",
      "str",
      "bool",
      "tuple",
      "frozenset",
      "complex",
      "bytes",
      "NoneType"
    ],
    "mutable_types": [
      "list",
      "set",
      "dict"
    ]
  },
  "memory_management": {
    "stack_vs_heap": {
      "stack": "Fast, best for local variables and function calls, limited space.",
      "heap": "Flexible, used for dynamic memory allocation, but slower due to garbage collection."
    },
    "reference_counting": "Python tracks how many variables point to the same object. When reference count reaches zero, the object is deleted from memory.",
    "garbage_collection": "Removes unused objects beyond reference counting."
  },
  "optimization_techniques": {
    "interning": "Python preallocates small integers (-5 to 256) and common strings to optimize memory.",
    "lazy_loading": "Python does not preallocate memory for large objects.",
    "gc_collection": "Objects with no references are automatically removed."
  },
  "scenarios_for_optimization": {
    "large_datasets": "e.g. Machine Learning, Big Data.",
    "frequent_variable_changes": "Use del or gc.collect() to free memory.",
    "high_performance_apps": "Use NumPy instead of lists for numerical data."
  },
  "key_takeaways": [
    "Python dynamically assigns types at runtime.",
    "Immutable types create new objects when modified, while mutable types modify existing objects.",
    "Interning optimizes memory usage for small integers and frequently used strings.",
    "Reference counting and garbage collection ensure efficient memory management.",
    "Understanding Python memory handling helps write optimized and scalable applications."
  ]
}
