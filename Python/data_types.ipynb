# Data Types in Python: Memory Management & Internal Representation

# 1. Dynamic Typing: No explicit type declarations. The interpreter determines the variable type at runtime.

# 2. Memory Management: Python uses automatic garbage collection and reference counting for efficient memory handling.

# 3. Object Storage: Variables are references to objects in heap memory.

# 4. Type Determination: The type of a variable is set based on its assigned value at runtime.

# 5. Efficiency: Understanding memory management helps optimize code and avoid unnecessary object creation.

# 6. Type Flexibility: Variables can change type during runtime.


# Syntax & Structure

# Syntax for all data types
int_var = 10  # Integer
print(int_var)

float_var = 3.14  # Float
print(float_var)

str_var = "Hello, World!"  # String
print(str_var)

bool_var = True  # Boolean
print(bool_var)

tuple_var = (1, 2, 3, 4, 5)  # Tuple
print(tuple_var)

frozenset_var = frozenset({1, 2, 3})  # Frozenset
print(frozenset_var)

complex_var = 3 + 5j  # Complex
print(complex_var)

bytes_var = b"Python"  # Bytes
print(bytes_var)

none_var = None  # NoneType
print(none_var)

# Mutable data types
list_var = ["apple", "banana", "cherry"]  # List
print(list_var)

set_var = {1, 2, 3, 4, 5}  # Set
print(set_var)

dict_var = {"name": "John", "age": 25}  # Dictionary
print(dict_var)


# Key Concepts
# Python automatically assigns types based on the assigned value.
# Data types in Python are implemented as classes, meaning every value in Python is an instance of a class.

# How Python Stores Data in Memory

# Breaking down variable assignment
x = 10  # Assign an integer value
y = 3.14  # Assign a float value
z = "hello"  # Assign a string value
print(x)
print(y)
print(z)

# How Python Handles This Internally

# variable_name: Acts as a label that references the object in memory.
# = (Assignment operator): Binds the variable name to an object.
# value: The actual data (Python object) stored in memory.

# Note: Python does not store the variable itself in memory. Only the object (value) is stored. 
# The variable name acts as a reference to the object.


# Types of Data in Python

# Immutable Data Types (Stored in memory once, cannot be changed)
x = 10              # int
y = 3.14            # float
z = "Hello"         # str
is_active = True    # bool
tpl = (1, 2, 3)     # tuple
fs = frozenset([1, 2, 3])  # frozenset (Immutable set)
c = 2 + 3j          # complex
b = b"Python"       # bytes
none_value = None   # NoneType

# Immutable objects cannot be modified. Any change creates a new object in memory.

# Mutable Data Types (Stored in heap memory, can be modified)
fruits = ["apple", "banana"]  # list
coordinates = {1.0, 2.0}      # set
person = {"name": "Alice", "age": 25}  # dict

# Mutable objects can be modified in place without creating a new object.

# Stack vs Heap
# - Stack is fast: Best for local variables and function calls, but has limited space.
# - Heap is flexible: Used for dynamic memory allocation, but slower due to garbage collection in Python.

# Memory Optimization: Interning Mechanism

# Python interns (preallocates) small integers (-5 to 256) and common strings to optimize memory.

import sys

a = 10
b = 10
print("Small integer interning:", a is b)  # True (Interned for -5 to 256)

# Creating large integers without interning issues
a = int(1000) + 1 - 1  # Forces a new object
b = int(1000) + 2 - 2  # Forces another separate object

print("Large integer separate objects:", id(a), id(b), a is b)  # False (Guaranteed in all environments)

# Reference Counting & Garbage Collection

# Python tracks how many variables point to the same object.
# When the reference count reaches zero, the object is deleted from memory.

x = 1000
print(sys.getrefcount(1000))  # Show how many references exist for 1000

# Example of Garbage Collection
x = [1, 2, 3]
x = None  # The list object is now garbage collected
print(x)

# Best Practices for Memory Optimization
# - Use `del` or `gc.collect()` for manual garbage collection.
# - Use NumPy instead of lists for numerical computations.
# - Avoid unnecessary object creation.
# - Understand interning to avoid redundant objects.

# Key Takeaways
# - Python dynamically assigns types at runtime.
# - Immutable types create new objects when modified, while mutable types modify existing objects.
# - Interning optimizes memory usage for small integers & frequently used strings.
# - Reference counting & garbage collection ensure efficient memory management.
# - Understanding Python's memory handling helps write optimized and scalable applications.
