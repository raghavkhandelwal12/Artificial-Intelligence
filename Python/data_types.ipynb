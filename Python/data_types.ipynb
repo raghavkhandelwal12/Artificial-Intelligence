{
  "nbformat": 4,
  "nbformat_minor": 5,
  "metadata": {},
  "cells": [
    {
      "cell_type": "markdown",
      "metadata": {},
      "source": [
        "## Data Types in Python: Memory Management & Internal Representation\n",
        "\n",
        "1. `Dynamic Typing` : No explicit type declarations, The interpreter determines the variable's type at runtime.\n",
        "2. `Memory Management` : Python uses `automatic garbage collection` and `reference counting` for efficient memory handling.\n",
        "3. `Object Storage` : Variable are references to objects in the `heap memory`.\n",
        "4. `Type Determination` : The type of variable is set based on its assigned value at runtime.\n",
        "5. `Efficiency` : Understanding memory management helps optimize code and avoid unnecessary object creation.\n",
        "6. `Type Flexibility` : Variable can change type during runtime."
      ]
    },
    {
      "cell_type": "code",
      "metadata": {},
      "source": [
        "# Syntax & Structure\n",
        "# Syntax for all data types\n",
        "int_var = 10 # Int\n",
        "print(int_var)\n",
        "float_var = 3.14 # Float\n",
        "print(float_var)\n",
        "str_var = \"Hello, World!\" # String\n",
        "print(str_var)\n",
        "bool_var = True # Boolean\n",
        "print(bool_var)\n",
        "tuple_var = (1, 2, 3, 4, 5) # Tuple\n",
        "print(tuple_var)\n",
        "frozenset_var = frozenset({1, 2, 3}) # Frozenset\n",
        "print(frozenset_var)\n",
        "complex_var = 3 + 5j # Complex\n",
        "print(complex_var)\n",
        "bytes_var = b'Python' # Bytes\n",
        "print(bytes_var)\n",
        "none_var = None # None\n",
        "print(none_var)\n",
        "# Mutable data types\n",
        "list_var = ['apple', 'banana', 'cherry'] # List\n",
        "print(list_var)\n",
        "set_var = {1, 2, 3, 4, 5} # Set\n",
        "print(set_var)\n",
        "dict_var = {'name': 'John', 'age': 25} # Dictionary\n",
        "print(dict_var)"
      ],
      "outputs": []
    },
    {
      "cell_type": "markdown",
      "metadata": {},
      "source": [
        "## How Python Stores Data in Memory\n",
        "- `Breaking down` variable_name = value\n",
        "```python\n",
        "x = 10 # assign an integer value\n",
        "y = 3.14 # assign a float value\n",
        "z = \"hello\" # assign a string value\n",
        "print(x)\n",
        "print(y)\n",
        "print(z)\n",
        "```\n",
        "- `variable_name` : Acts as a label that references the object in memory.\n",
        "- `=`(Assignment operator) : Binds the variable name to an object.\n",
        "- `value` : The actual data (Python object) stored in memory.\n",
        "\n",
        "`Note` : Python `does not store the variable itself in memory` only the `object(value) is stored. The variable name acts as a reference` to the object."
      ]
    },
    {
      "cell_type": "markdown",
      "metadata": {},
      "source": [
        "## Types of Data in Python\n",
        "- Python has several built-in data types categorized as `immutable and mutable`.\n",
        "- `Immutable` : Immutable data types (`stored in memory once, cannot be changed.`)\n",
        "```python\n",
        "x = 10  # int\n",
        "y = 3.14  # float\n",
        "z = \"Hello\"  # str\n",
        "is_active = True  # bool\n",
        "tpl = (1, 2, 3)  # tuple\n",
        "fs = frozenset([1, 2, 3])  # frozenset (Immutable set)\n",
        "c = 2 + 3j  # complex\n",
        "b = b'Python'  # bytes\n",
        "none_value = None  # NoneType\n",
        "```\n",
        "- `Mutable` : Mutable data types (`Store in heap memory, can be modified`)\n",
        "```python\n",
        "fruits = ['apple', 'banana']  # list\n",
        "coordinates = {1.0, 2.0}  # set\n",
        "person = {'name': 'Alice', 'age': 25}  # dict\n",
        "```"
      ]
    },
    {
      "cell_type": "markdown",
      "metadata": {},
      "source": [
        "## Must-Know Facts About Stack vs Heap\n",
        "- `Stack is Fast` : Best for local variables and function calls, but has limited space.\n",
        "- `Heap is Flexible` : Used for dynamic memory allocation, but slower due to garbage collection.\n",
        "- `Python Developers` : Beware of `circular references` use `weakref` to avoid memory bloat.\n",
        "- `Optimize Recursion` : Stack size is limited, use `loops` or `tail recursion` to prevent stack overflow."
      ]
    }
  ]
}
