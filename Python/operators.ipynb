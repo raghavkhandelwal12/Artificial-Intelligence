{
 "cells": [
  {
   "cell_type": "markdown",
   "metadata": {},
   "source": [
    "## Operators in Python: Arithmetic, Logical, Bitwise & More\n",
    "\n",
    "Operators in Python are used to perform operations on variables and values. They are categorized into different types such as arithmetic, comparison, logical, bitwise, assignment, identity, and membership operators. Each type serves a specific purpose like mathematical computations, comparisons, logical evaluations, and more."
   ]
  },
  {
   "cell_type": "markdown",
   "metadata": {},
   "source": [
    "# 1. Syntax & Structure\n",
    "\n",
    "## Why is Understanding Operators Important?\n",
    "\n",
    "- Defines how values interact in expressions.\n",
    "- Efficient usage reduces unnecessary computations and improves performance.\n",
    "- Prevents logical errors by understanding operator precedence and associativity."
   ]
  },
  {
   "cell_type": "markdown",
   "metadata": {},
   "source": [
    "### Categories of Operators in Python\n",
    "\n",
    "| **Type of Operator** | **Examples** |\n",
    "| --- | --- |\n",
    "| Arithmetic | `+`, `-`, `*`, `/`, `//`, `%`, `**` |\n",
    "| Comparison | `==`, `!=`, `>`, `<`, `>=`, `<=` |\n",
    "| Logical | `and`, `or`, `not` |\n",
    "| Bitwise | `&`, `|`, `^`, `~`, `<<`, `>>` |\n",
    "| Assignment | `=`, `+=`, `-=`, `*=`, `/=`, `%=` |\n",
    "| Identity | `is`, `is not` |\n",
    "| Membership | `in`, `not in` |\n"
   ]
  },
  {
   "cell_type": "code",
   "execution_count": 1,
   "metadata": {},
   "outputs": [
    {
     "name": "stdout",
     "output_type": "stream",
     "text": [
      "15\n"
     ]
    }
   ],
   "source": [
    "# Example\n",
    "a = 10\n",
    "b = 5\n",
    "result = a + b  # Python first evaluates a and b\n",
    "print(result)"
   ]
  },
  {
   "cell_type": "code",
   "execution_count": 2,
   "metadata": {},
   "outputs": [
    {
     "name": "stdout",
     "output_type": "stream",
     "text": [
      "8\n",
      "True\n",
      "False\n",
      "True\n",
      "True\n",
      "True\n"
     ]
    }
   ],
   "source": [
    "# Additional Operators Examples\n",
    "# Assignment Operators\n",
    "x = 5\n",
    "x += 3\n",
    "print(x)  # Output: 8\n",
    "\n",
    "# Identity Operators\n",
    "c = [1, 2, 3]\n",
    "d = [1, 2, 3]\n",
    "print(c is d)  # False, different objects\n",
    "print(c == d)  # True, same values\n",
    "\n",
    "# Membership Operators\n",
    "numbers = [1, 2, 3, 4, 5]\n",
    "print(3 in numbers)  # True\n",
    "print(10 not in numbers)  # True"
   ]
  }
 ],
 "metadata": {
  "kernelspec": {
   "display_name": "Python 3",
   "language": "python",
   "name": "python3"
  },
  "language_info": {
   "name": "python",
   "version": "3.12.0"
  }
 },
 "nbformat": 4,
 "nbformat_minor": 2
}
