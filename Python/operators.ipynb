{
 "cells": [
  {
   "cell_type": "markdown",
   "metadata": {},
   "source": [
    "## Operators in Python: Arithmetic, Logical, Bitwise & More\n",
    "\n",
    "Operators in Python are used to perform operations on variables and values. They are categorized into different types such as arithmetic, comparison, logical, bitwise, assignment, identity, and membership operators. Each type serves a specific purpose like mathematical computations, comparisons, logical evaluations, and more."
   ]
  },
  {
   "cell_type": "markdown",
   "metadata": {},
   "source": [
    "# 1. Syntax & Structure\n",
    "\n",
    "## Why is Understanding Operators Important?\n",
    "\n",
    "- Defines how values interact in expressions.\n",
    "- Efficient usage reduces unnecessary computations and improves performance.\n",
    "- Prevents logical errors by understanding operator precedence and associativity."
   ]
  },
  {
   "cell_type": "markdown",
   "metadata": {},
   "source": [
    "### Categories of Operators in Python\n",
    "\n",
    "| **Type of Operator** | **Examples** |\n",
    "| --- | --- |\n",
    "| Arithmetic | `+`, `-`, `*`, `/`, `//`, `%`, `**` |\n",
    "| Comparison | `==`, `!=`, `>`, `<`, `>=`, `<=` |\n",
    "| Logical | `and`, `or`, `not` |\n",
    "| Bitwise | `&`, `|`, `^`, `~`, `<<`, `>>` |\n",
    "| Assignment | `=`, `+=`, `-=`, `*=`, `/=`, `%=` |\n",
    "| Identity | `is`, `is not` |\n",
    "| Membership | `in`, `not in` |\n"
   ]
  },
  {
   "cell_type": "code",
   "execution_count": 1,
   "metadata": {},
   "outputs": [
    {
     "name": "stdout",
     "output_type": "stream",
     "text": [
      "15\n"
     ]
    }
   ],
   "source": [
    "# Example\n",
    "a = 10\n",
    "b = 5\n",
    "result = a + b  # Python first evaluates a and b\n",
    "print(result)"
   ]
  }
 ],
 "metadata": {
  "kernelspec": {
   "display_name": "Python 3",
   "language": "python",
   "name": "python3"
  },
  "language_info": {
   "name": "python",
   "version": "3.12.0"
  }
 },
 "nbformat": 4,
 "nbformat_minor": 2
}
