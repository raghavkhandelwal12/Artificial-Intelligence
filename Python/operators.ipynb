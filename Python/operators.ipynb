{
 "cells": [
  {
   "cell_type": "markdown",
   "metadata": {},
   "source": [
    "## Operators in Python: Arithmetic, Logical, Bitwise & More\n",
    "\n",
    "- In Python, operators are used to perform operations on variables and values. They can be categorized as arithmetic, comparisons, logical, bitwise, assignment, and identity operators. Each operator type performs different tasks like mathematical calculations, comparisons, logical evaluations, and more."
   ]
  },
  {
   "cell_type": "markdown",
   "metadata": {},
   "source": [
    "# 1. `Syntax & Structure`\n",
    "\n",
    "## Why is Understanding Operators Important?\n",
    "\n",
    "- `Defines how values interact` in expressions.\n",
    "- `Efficient usage reduces unnecessary computations and improves performance.`\n",
    "- `Prevent logical errors` by understanding operator precedence and associativity."
   ]
  },
  {
   "cell_type": "markdown",
   "metadata": {},
   "source": [
    "### Categories of Operators in Python\n",
    "\n",
    "| **Type of Operator** | **Example** |\n",
    "| --- | --- |\n",
    "| Arithmetic | `+`, `-`, `*`, `/`, `//`, `%`, `**` |\n",
    "| Comparison | `==`, `!=`, `>`, `<`, `>=`, `<=` |\n",
    "| Logical | `and`, `or`, `not` |\n",
    "| Bitwise | `&`, `\|`, `^`, `~`, `<<`, `>>` |\n",
    "| Assignment | `=`, `+=`, `-=`, `*=`, `/=`, `%=` |\n",
    "| Identity | `is`, `is not` |\n",
    "| Membership | `in`, `not in` |\n"
   ]
  },
  {
   "cell_type": "code",
   "execution_count": 1,
   "metadata": {},
   "outputs": [
    {
     "name": "stdout",
     "output_type": "stream",
     "text": [
      "15\n"
     ]
    }
   ],
   "source": [
    "# Example\n",
    "a = 10\n",
    "b = 5\n",
    "result = a + b # Python first evaluates a and b\n",
    "print(result)"
   ]
  },
  {
   "cell_type": "code",
   "execution_count": 2,
   "metadata": {},
   "outputs": [
    {
     "name": "stdout",
     "output_type": "stream",
     "text": [
      "13\n",
      "7\n",
      "30\n",
      "3.3333333333333335\n",
      "3\n",
      "1\n",
      "1000\n"
     ]
    }
   ],
   "source": [
    "# Arithmetic Operators in Python\n",
    "x = 10\n",
    "y = 3\n",
    "print(x + y)  # Addition 13\n",
    "print(x - y)  # Subtraction 7\n",
    "print(x * y)  # Multiplication 30\n",
    "print(x / y)  # Division 3.3333333333333335\n",
    "print(x // y) # Floor Division 3\n",
    "print(x % y)  # Modulus 1\n",
    "print(x ** y) # Exponentiation 1000"
   ]
  },
  {
   "cell_type": "code",
   "execution_count": 5,
   "metadata": {},
   "outputs": [
    {
     "name": "stdout",
     "output_type": "stream",
     "text": [
      "2\n",
      "7\n",
      "5\n",
      "-7\n",
      "12\n",
      "3\n"
     ]
    }
   ],
   "source": [
    "# Bitwise Operations on Integers\n",
    "a, b = 6, 3  # Binary a = 110, b = 011\n",
    "print(a & b)  # Bitwise AND = 2\n",
    "print(a | b)  # Bitwise OR = 7\n",
    "print(a ^ b)  # Bitwise XOR = 5\n",
    "print(~a)     # Bitwise NOT -7\n",
    "print(a << 1) # Left shift (6 << 1 = 12, binary: 1100)\n",
    "print(a >> 1) # Right shift (6 >> 1 = 3, binary: 011)"
   ]
  },
  {
   "cell_type": "code",
   "execution_count": 7,
   "metadata": {},
   "outputs": [
    {
     "name": "stdout",
     "output_type": "stream",
     "text": [
      "True\n",
      "False\n",
      "True\n"
     ]
    }
   ],
   "source": [
    "a = 10\n",
    "b = 10\n",
    "print(a is b)  # May be True due to integer caching\n",
    "c = [1, 2, 3]\n",
    "d = [1, 2, 3]\n",
    "print(c is d)  # False, different objects in memory\n",
    "print(c == d)  # True, same values"
   ]
  }
 ],
 "metadata": {
  "kernelspec": {
   "display_name": "Python 3",
   "language": "python",
   "name": "python3"
  },
  "language_info": {
   "name": "python",
   "version": "3.12.0"
  }
 },
 "nbformat": 4,
 "nbformat_minor": 2
}
