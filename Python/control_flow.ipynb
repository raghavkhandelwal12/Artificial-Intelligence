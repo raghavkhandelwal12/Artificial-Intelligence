{
  "cells": [
    {
      "cell_type": "markdown",
      "metadata": {},
      "source": [
        "# Control Flow in Python: Conditional Statement`(if,elif,else)`\n",
        "\n",
        "- Control flow is a fundamental concept in programming that determines the order in which statements are executed. In Python, conditional statements like `if`, `elif`, and `else are used to make decision based on certail condition.\n",
        "\n",
        "- These statements allow to program to execute different blocks of code depending on whether a condition is true or false."
      ]
    },
    {
      "cell_type": "markdown",
      "metadata": {},
      "source": [
        "# 1. Syntax & Structure\n",
        "## Why is Understanding Control Flow Important?\n",
        "\n",
        "- Control flow is crucical because it enables your program to make decisions dynamically. Without control flow, a program would executes all its statements in a linear fashion, which is often not practical for real-world application.\n",
        "\n",
        "- `Dynamically Decision-Making` : Program can react differently based on user input, data, or other conditions.\n",
        "- `Optimization` : By skipping unnecessary code,programs can run more efficiently.\n",
        "- `Real-World Logic` : Control flow allows to implement logic that mimics real-world scenarios, such as user authentication, form varidation, or AI-based decision-making.\n",
        "\n",
        "\n"
      ]
    },
    {
      "cell_type": "markdown",
      "metadata": {},
      "source": [
        "## Basic Syntax of Conditional Statements\n",
        "\n",
        "- The basic syntax of conditional statement in Python is as follows."
      ]
    },
    {
      "cell_type": "code",
      "execution_count": 5,
      "metadata": {},
      "outputs": [
        {
          "name": "stdout",
          "output_type": "stream",
          "text": [
            "You are an adult.\n"
          ]
        }
      ],
      "source": [
        "age = 20\n",
        "\n",
        "if age < 18:\n",
        "    print(\"You are a minor.\")\n",
        "elif age == 18:\n",
        "    print(\"You just became an adult!\")\n",
        "else:\n",
        "    print(\"You are an adult.\")\n"
      ]
    },
    {
      "cell_type": "markdown",
      "metadata": {},
      "source": [
        "- `if` : The `if` statement checks a condition. If the condition is True, the block of code under the `if` statement is executed.\n",
        "\n",
        "- `elif` : Shorter for `else if`, the `elif` statement allow to check multiple conditions. It is evaluated only if the previous `if` or `elif` condition are `false`.\n",
        "\n",
        "- `else` : The `else` statement in a catch-all that executes if none of the previous conditions are True."
      ]
    },
    {
      "cell_type": "markdown",
      "metadata": {},
      "source": [
        "- `Indentation is mandatory` : All statement under `if`, `elif`, or `else` must be indented correctly. Python uses indentation to define block of code."
      ]
    },
    {
      "cell_type": "markdown",
      "metadata": {},
      "source": [
        "# 2. Explanation: How Conditional Statement Work Internally\n",
        "### Breaking Down `if-elif-else` execution\n",
        "\n",
        "- When Python encounters a series of `if`, `elif`, and `else` statement, it evaluates them in order.\n",
        "\n",
        "1. `Evaluate the if condition` : Python first checks the condition in the `if` statement. if the condition is true, the corresponding block of code is executed, and the rest of the `elif` and `else` blocks are skipped.\n",
        "\n",
        "2. `Evaluate elif conditions` : If the `if condition` is false, Python moves to the `elif` conditions and evaluates them in order. The first `elif` condition is true will have its block of code executed, and the rest of the `elif` and `else` blocks are skipped.\n",
        "\n",
        "3. `Execute else block` : If none of the `if or elif` conditions are true, the `else` block(if present) is executed."
      ]
    },
    {
      "cell_type": "code",
      "execution_count": 6,
      "metadata": {},
      "outputs": [
        {
          "name": "stdout",
          "output_type": "stream",
          "text": [
            "older\n"
          ]
        }
      ],
      "source": [
        "age=int(input('enter the age'))\n",
        "if age<18:\n",
        "    print(\"child\")\n",
        "elif age==18:\n",
        "    print(\"adult\")\n",
        "else:\n",
        "    print(\"older\")"
      ]
    },
    {
      "cell_type": "markdown",
      "metadata": {},
      "source": [
        "- `Short-circuiting` : Python stops evaluating conditions as soon as it finds a true condition. This is known as short-circuting and helps optimize performance."
      ]
    },
    {
      "cell_type": "markdown",
      "metadata": {},
      "source": [
        "# 3. Types of Conditional Statements in Python\n",
        "\n",
        "1. `Simple if Statement` : The simplest form of a conditional statement is the `if` statement. It checks a single condition and executed a block of code if the condition is true."
      ]
    },
    {
      "cell_type": "code",
      "execution_count": 9,
      "metadata": {},
      "outputs": [
        {
          "name": "stdout",
          "output_type": "stream",
          "text": [
            "It's hot outside\n"
          ]
        }
      ],
      "source": [
        "temprature=30\n",
        "if temprature>25:\n",
        "    print(\"It's hot outside\")"
      ]
    },
    {
      "cell_type": "markdown",
      "metadata": {},
      "source": [
        "- If the condition is false, the indented block under `if` statement is skipped."
      ]
    },
    {
      "cell_type": "markdown",
      "metadata": {},
      "source": [
        "2. `if-else` Statement: The `if-else` statement allows you to handle two possible outcomes.One if the condition is true, and another if the condition is false."
      ]
    },
    {
      "cell_type": "code",
      "execution_count": 10,
      "metadata": {},
      "outputs": [
        {
          "name": "stdout",
          "output_type": "stream",
          "text": [
            "Access granted\n"
          ]
        }
      ],
      "source": [
        "password=\"admin123\"\n",
        "if password == \"admin123\":\n",
        "    print(\"Access granted\")\n",
        "else:\n",
        "    print(\"Access denied\")"
      ]
    },
    {
      "cell_type": "markdown",
      "metadata": {},
      "source": [
        "- `Always use else` : The `else` block is useful for handling unexpected or default cases."
      ]
    },
    {
      "cell_type": "markdown",
      "metadata": {},
      "source": [
        "3. `if-elif-else`(Multiple Conditions): When you have multiple conditions to check, you can use the `if-elif-else`. This allows you to evaluate several conditions in sequence."
      ]
    },
    {
      "cell_type": "code",
      "execution_count": 11,
      "metadata": {},
      "outputs": [
        {
          "name": "stdout",
          "output_type": "stream",
          "text": [
            "Grade:B\n"
          ]
        }
      ],
      "source": [
        "marks=85\n",
        "if marks>=90:\n",
        "    print(\"Grade A\")\n",
        "elif marks>=75:\n",
        "    print(\"Grade:B\")\n",
        "else:\n",
        "    print(\"Grade: C\")"
      ]
    },
    {
      "cell_type": "markdown",
      "metadata": {},
      "source": [
        "- `Order matters` : `elif` conditions are evaluated only the previous `if` or `elif` conditions are false."
      ]
    },
    {
      "cell_type": "markdown",
      "metadata": {},
      "source": [
        "# 4. Short-Hand(`Ternary`) `if-else` Expression\n",
        "\n",
        "- `One-Line Conditional Expression` : Python supports a shorthand syntax for simple `if-else` statement, known as the ternay operators. It allows to write a conditional expression in a single line.\n"
      ]
    },
    {
      "cell_type": "code",
      "execution_count": 12,
      "metadata": {},
      "outputs": [
        {
          "name": "stdout",
          "output_type": "stream",
          "text": [
            "Adult\n"
          ]
        }
      ],
      "source": [
        "status=\"Adult\" if age>=18 else \"Minor\"\n",
        "print(status)"
      ]
    },
    {
      "cell_type": "markdown",
      "metadata": {},
      "source": [
        "- Ternary expressions are great for concise or simple expression but can become hard to reader complex conditions."
      ]
    },
    {
      "cell_type": "markdown",
      "metadata": {},
      "source": [
        "# 5. Handling Edge Cases in Conditional \n",
        "### Checking for Empty Values `(None, 0, \"\", [])`\n",
        "\n",
        "- In Python, certain values are considerd `falsy`, meaning they evaluate to `False`in a boolean context. These include `None, 0, empty strings(\"\"), empty lists([]), and empty dictionaries({})`."
      ]
    },
    {
      "cell_type": "code",
      "execution_count": 13,
      "metadata": {},
      "outputs": [
        {
          "name": "stdout",
          "output_type": "stream",
          "text": [
            "No input provided\n"
          ]
        }
      ],
      "source": [
        "user_input=\"\"\n",
        "if user_input: #Empty string evaluates to False\n",
        "    print(\"User provided input\")\n",
        "else:\n",
        "    print(\"No input provided\")"
      ]
    },
    {
      "cell_type": "markdown",
      "metadata": {},
      "source": [
        "- `Falsy values` : Understanding falsy values is important for writing robust conditional statements."
      ]
    },
    {
      "cell_type": "markdown",
      "metadata": {},
      "source": [
        "- Using `is` vs `==` `for` None Checks\n",
        "\n",
        "    - When checking if a variables is `None`, it's recommended to  use the `is` operator instead of `==`. The `is` operator checks for `identity`(whether two variable point to the same object). While `==` checks for equality(Whether two variables have the same values.)"
      ]
    },
    {
      "cell_type": "code",
      "execution_count": 14,
      "metadata": {},
      "outputs": [
        {
          "name": "stdout",
          "output_type": "stream",
          "text": [
            "Variable is None\n"
          ]
        }
      ],
      "source": [
        "x=None\n",
        "if x is None: #correctly to check for None\n",
        "    print(\"Variable is None\")"
      ]
    },
    {
      "cell_type": "markdown",
      "metadata": {},
      "source": [
        "- `Always use is for None checks` : This is more efficient and avoids potential issues with object equality."
      ]
    },
    {
      "cell_type": "markdown",
      "metadata": {},
      "source": [
        "# 6. `Nested if Statements`\n",
        "\n",
        "- `When Conditions Depend on Each Other` : Sometimes we may need to check multiple conditions that depend on each other. In such cases, you can use `nested if` statement."
      ]
    },
    {
      "cell_type": "code",
      "execution_count": 20,
      "metadata": {},
      "outputs": [
        {
          "name": "stdout",
          "output_type": "stream",
          "text": [
            "Access Granted\n"
          ]
        }
      ],
      "source": [
        "age=20\n",
        "has_id=True\n",
        "if age>=18:\n",
        "    if has_id:\n",
        "        print(\"Access Granted\")\n",
        "    else:\n",
        "        print(\"Id required\")\n",
        "else:\n",
        "    print(\"Access Denied\")"
      ]
    },
    {
      "cell_type": "markdown",
      "metadata": {},
      "source": [
        "- `Avoid deep nesting` : While nested `if` statement are usefule, they can make the code harder to read. Consider using logical operator`(and, or)`."
      ]
    },
    {
      "cell_type": "code",
      "execution_count": 23,
      "metadata": {},
      "outputs": [
        {
          "name": "stdout",
          "output_type": "stream",
          "text": [
            "Access granted\n"
          ]
        }
      ],
      "source": [
        "age=18\n",
        "\n",
        "if age>=18 and has_id:\n",
        "    print(\"Access granted\")\n",
        "else:\n",
        "    print(\"Access denied or Id required.\")"
      ]
    },
    {
      "cell_type": "markdown",
      "metadata": {},
      "source": [
        "# 7. `Logical Operators in Conditions(and, or , not)`\n",
        "\n",
        "### Combining Conditions for Complex Logic\n",
        "\n",
        "- Logical operators allow to combine multiple conditions in a single `if` statement.\n",
        "\n",
        "    - `and` : Both conditions must be true for the overall conditions to be true.\n",
        "    - `or` : At least one condition must be true for the overall condition to be true\n",
        "    - `not` : Inverts the truth value of a condition."
      ]
    },
    {
      "cell_type": "code",
      "execution_count": 25,
      "metadata": {},
      "outputs": [
        {
          "name": "stdout",
          "output_type": "stream",
          "text": [
            "Nice weather\n"
          ]
        }
      ],
      "source": [
        "temprature=25\n",
        "humidity=60\n",
        "if temprature>20 and humidity<70:\n",
        "    print(\"Nice weather\")"
      ]
    },
    {
      "cell_type": "markdown",
      "metadata": {},
      "source": [
        "- `Shorter-Circuiting with  and or`: Python stops evaluating conditions as soon as the result is determined. For example, in an `and` expression, if the first condtion is false, the second condition is not evaluated."
      ]
    },
    {
      "cell_type": "markdown",
      "metadata": {},
      "source": [
        "- `Using not for Negation` : The `not` operator is useful for inverting a condition. for example we can use it check if a useful is not logged in."
      ]
    },
    {
      "cell_type": "code",
      "execution_count": 28,
      "metadata": {},
      "outputs": [
        {
          "name": "stdout",
          "output_type": "stream",
          "text": [
            "Please log in\n"
          ]
        }
      ],
      "source": [
        "is_logged_in=False\n",
        "if not is_logged_in:\n",
        "    print(\"Please log in\")"
      ]
    },
    {
      "cell_type": "markdown",
      "metadata": {},
      "source": [
        "- `not` inverts the condition`: It turns True into  False and vice versa."
      ]
    },
    {
      "cell_type": "markdown",
      "metadata": {},
      "source": [
        "# 8. Matching Multiple Conditions With `match-case`(Python 3.10)\n",
        "\n",
        "## Why Use `match-case`?\n",
        "\n",
        "- The `match-case` statement, introduced in Python 3.10, provides a cleaner and more readable way to handle multiple conditions compared to a series of `if-elif` statement. It is particularly useful when you need to match a variable against multiple fixed values."
      ]
    },
    {
      "cell_type": "code",
      "execution_count": 1,
      "metadata": {},
      "outputs": [
        {
          "name": "stdout",
          "output_type": "stream",
          "text": [
            "Not Found!\n"
          ]
        }
      ],
      "source": [
        "status_code=404\n",
        "match status_code:\n",
        "    case 200:\n",
        "        print(\"Success!\")\n",
        "    case 404:\n",
        "        print(\"Not Found!\")\n",
        "    case 500:\n",
        "        print(\"Server Error!\")\n",
        "    case _:\n",
        "        print(\"Unknown status code\")"
      ]
    },
    {
      "cell_type": "markdown",
      "metadata": {},
      "source": [
        "## Difference between match-case and if-else"
      ]
    },
    {
      "cell_type": "markdown",
      "metadata": {},
      "source": [
        "- The `match-case` statement(introduced in Python 3.10) and the `if-else` statement both control the flow a program based on conditions, but they have key differences.\n",
        "\n",
        "1. `Syntax & Readability` : \n",
        "    - -`if-else` is more general purpose and can handle any boolean conditions.\n",
        "    - `match-case` is more structured and better suited for pattern matching.\n",
        "\n",
        "2. `Use Cases` :\n",
        "    - `if-else` is used for general conditional logic.\n",
        "    - `match-case` is ideal for handling multiple fixed cases, such as `switch-like behavior.\n",
        "\n",
        "3. `Performance` : \n",
        "    - `match-case` is often more efficient than multiple `if-elif` checks because it evaluates pattern rather than multiple conditions.\n",
        "\n",
        "- Use `if-else` for general conditions involving comparisons`(>,<,!=)`.\n",
        "- Use `match-case` when checking against fixed values, complex structure, or patterns.\n"
      ]
    },
    {
      "cell_type": "markdown",
      "metadata": {},
      "source": [
        "- The `_` case: The underscore `(_)` acts as a catch-all,similar to `else` in an `if-elif-else` structure. It matches any value that wasn't explicitly handled by the previous cases."
      ]
    },
    {
      "cell_type": "markdown",
      "metadata": {},
      "source": [
        "# 9. Performance Optimization for Condtionals:\n",
        "\n",
        "- `Use in for Multiple comparison instead of or`: When you need to check if a variable matches one of several value, usiing the `in` operator with a set is more efficient than using multiple `or` conditions."
      ]
    },
    {
      "cell_type": "code",
      "execution_count": 4,
      "metadata": {},
      "outputs": [
        {
          "name": "stdout",
          "output_type": "stream",
          "text": [
            "Valid choice!\n"
          ]
        }
      ],
      "source": [
        "# Instead of \n",
        "x=int(input(\"enter the number\"))\n",
        "\n",
        "if x == 1 or x == 2 or x == 3:\n",
        "    print(\"Valid choice!\")"
      ]
    },
    {
      "cell_type": "code",
      "execution_count": 5,
      "metadata": {},
      "outputs": [
        {
          "name": "stdout",
          "output_type": "stream",
          "text": [
            "valid choice\n"
          ]
        }
      ],
      "source": [
        "# Use\n",
        "x=int(input(\"enter a number\"))\n",
        "if x in {1,2,3}:\n",
        "    print(\"valid choice\")"
      ]
    },
    {
      "cell_type": "markdown",
      "metadata": {},
      "source": [
        "- `Sets are faster` : Python's `in` operator is optimized for sets, making this approach more efficient."
      ]
    },
    {
      "cell_type": "markdown",
      "metadata": {},
      "source": [
        "## Avoid Unnecessary Conditions\n",
        "\n",
        "- Sometimes, we can simplify our conditions by removing unnecessary comparisons. For example, instead of explicitly comparing a boolean variable to `True`, we can use the variable directly."
      ]
    },
    {
      "cell_type": "code",
      "execution_count": 7,
      "metadata": {},
      "outputs": [
        {
          "name": "stdout",
          "output_type": "stream",
          "text": [
            "Access Granted \n"
          ]
        }
      ],
      "source": [
        "is_admin=bool(int(input(\"Enter 1 if admin, 0 if not\")))\n",
        "if is_admin==True:\n",
        "    print(\"Access Granted \")\n",
        "else:\n",
        "    print(\"Access denied\")"
      ]
    },
    {
      "cell_type": "code",
      "execution_count": 8,
      "metadata": {},
      "outputs": [
        {
          "name": "stdout",
          "output_type": "stream",
          "text": [
            "Access denied\n"
          ]
        }
      ],
      "source": [
        "#use this\n",
        "is_admin=bool(int(input(\"Enter 1 if admin, 0 if not\")))\n",
        "if is_admin:\n",
        "    \n",
        "    print(\"Access Granted \")\n",
        "else:\n",
        "    print(\"Access denied\")"
      ]
    },
    {
      "cell_type": "markdown",
      "metadata": {},
      "source": [
        "- `Simplify your code` : This make your code more readable and avoids redundant comparisons."
      ]
    },
    {
      "cell_type": "code",
      "execution_count": 11,
      "metadata": {},
      "outputs": [
        {
          "name": "stdout",
          "output_type": "stream",
          "text": [
            "login successfully access the internet\n"
          ]
        }
      ],
      "source": [
        "# Login for the college data\n",
        "#define the enrollment\n",
        "enrollment=\"21stujpds0002\"\n",
        "password=\"abcd\"\n",
        "\n",
        "#use the match-case \n",
        "match(enrollment,password):\n",
        "    \n",
        "    case (\"21stujpds0002\",\"abcd\"):\n",
        "        print(\"login successfully access the internet\")\n",
        "    case(enrollment,_):\n",
        "        print('Incorrect password access denied')\n",
        "    case _:\n",
        "        print('Invalid enrollment number access denied')"
      ]
    },
    {
      "cell_type": "code",
      "execution_count": 15,
      "metadata": {},
      "outputs": [
        {
          "name": "stdout",
          "output_type": "stream",
          "text": [
            "Login successful! Access granted to the college internet.\n"
          ]
        }
      ],
      "source": [
        "# Stored(Enrollment Number & Password)\n",
        "correct_enrollment = \"21stujpds0002\"\n",
        "correct_password = \"abcd\"  # Set your password\n",
        "\n",
        "# User input\n",
        "enrollment = input(\"Enter your Enrollment Number: \")\n",
        "password = input(\"Enter your Password: \")\n",
        "\n",
        "# Authentication using control flow\n",
        "if enrollment == correct_enrollment:\n",
        "    if password == correct_password:\n",
        "        print(\"Login successful! Access granted to the college internet.\")\n",
        "    else:\n",
        "        print(\"Incorrect password. Access denied!\")\n",
        "else:\n",
        "    print(\"Invalid Enrollment Number. Access denied!\")\n"
      ]
    },
    {
      "cell_type": "code",
      "execution_count": null,
      "metadata": {},
      "outputs": [],
      "source": []
    }
  ],
  "metadata": {
    "kernelspec": {
      "display_name": "Python 3",
      "language": "python",
      "name": "python3"
    },
    "language_info": {
      "codemirror_mode": {
        "name": "ipython",
        "version": 3
      },
      "file_extension": ".py",
      "mimetype": "text/x-python",
      "name": "python",
      "nbconvert_exporter": "python",
      "pygments_lexer": "ipython3",
      "version": "3.12.0"
    }
  },
  "nbformat": 4,
  "nbformat_minor": 2
}
