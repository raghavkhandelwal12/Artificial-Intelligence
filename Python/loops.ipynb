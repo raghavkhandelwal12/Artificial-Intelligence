{
 "cells": [
  {
   "cell_type": "markdown",
   "metadata": {},
   "source": [
    "# Loops in Python : Iteration with for, while, and Performance Optimization\n",
    "\n",
    "- Loops are fundamentals in programming, allowing to execute repetitive tasks efficiently.\n",
    "- Python provides two primary loop structures.\n",
    "\n",
    "    - `for loop` : Iterate over sequences like `lists, tuple, strings, range, and dictionaries`.\n",
    "    - `while loop` : Repeats execution while a condition remains `True`.\n"
   ]
  },
  {
   "cell_type": "markdown",
   "metadata": {},
   "source": [
    "## 1. Why Use Loops Instead of Control Flow?\n",
    "### Why Are Loops Important?\n",
    "\n",
    "- `Automates Repetitive Tasks` : Loops allow to automate repetitive tasks, reducing redundancy and making the code cleaner and more maintainable.\n",
    "\n",
    "- `Efficient Data Processing` : Loops enable to process large datasets and sequences efficiently, which would be cumbersome and error-phone with manual iteration.\n",
    "\n",
    "- `Improves Performance` : By using loops, we can avoid writing repetitive code manually, which not only saves time but also improves performance."
   ]
  },
  {
   "cell_type": "markdown",
   "metadata": {},
   "source": [
    "# Control Flow vs Loops\n",
    "\n",
    "- `Control Flow` statements like `if, elif, and else` are used to make decision in our code. However, they are not designed to handle repetitive tasks. Loops, on th other hand, are specifically designed for iteration.\n",
    "\n",
    "- Using `control flow` statements to handle repetitive tasks requires writing multiple conditions manually, making the code inefficient and hard to maintain."
   ]
  },
  {
   "cell_type": "code",
   "execution_count": 2,
   "metadata": {},
   "outputs": [
    {
     "name": "stdout",
     "output_type": "stream",
     "text": [
      "Iteration 1\n"
     ]
    }
   ],
   "source": [
    "#using the if-elif\n",
    "count=1\n",
    "if count==1:\n",
    "    print(\"Iteration 1\")\n",
    "    count+=1\n",
    "elif count==2:\n",
    "    print(\"Iteration 2\")\n",
    "    count+=1\n",
    "elif count==3:\n",
    "    print(\"Iteration 3\")\n",
    "    count+=1\n",
    "#this approach is not scalable for larger datasets."
   ]
  },
  {
   "cell_type": "markdown",
   "metadata": {},
   "source": [
    "# Using a loop for iteration\n",
    "\n",
    "- A loop is designed for repetition, making the code cleaner and scalable."
   ]
  },
  {
   "cell_type": "code",
   "execution_count": 5,
   "metadata": {},
   "outputs": [
    {
     "name": "stdout",
     "output_type": "stream",
     "text": [
      "iteration 1 \n",
      "iteration 2 \n",
      "iteration 3 \n"
     ]
    }
   ],
   "source": [
    "for count in range(1,4):\n",
    "    print(f\"iteration {count} \")"
   ]
  },
  {
   "cell_type": "code",
   "execution_count": 6,
   "metadata": {},
   "outputs": [
    {
     "name": "stdout",
     "output_type": "stream",
     "text": [
      "1\n",
      "2\n",
      "3\n",
      "4\n",
      "5\n"
     ]
    }
   ],
   "source": [
    "#Control Flow(Inefficient for Repetition)\n",
    "print(1)\n",
    "print(2)\n",
    "print(3)\n",
    "print(4)\n",
    "print(5)\n"
   ]
  },
  {
   "cell_type": "code",
   "execution_count": 7,
   "metadata": {},
   "outputs": [
    {
     "name": "stdout",
     "output_type": "stream",
     "text": [
      "1\n",
      "2\n",
      "3\n",
      "4\n",
      "5\n"
     ]
    }
   ],
   "source": [
    "# Loops(Efficient for Repetition)\n",
    "for i in range(1,6):\n",
    "    print(i)"
   ]
  },
  {
   "cell_type": "markdown",
   "metadata": {},
   "source": [
    "- Loops are more efficient and scalable for repetitive tasks compared to control flow statement."
   ]
  },
  {
   "cell_type": "markdown",
   "metadata": {},
   "source": [
    "# Basic Loop Syntax\n",
    "\n",
    "- `For Loop Syntax`\n",
    "    ```\n",
    "    for variable in iterable:\n",
    "        #loop body\n",
    "    ```\n",
    "\n",
    "- `While Loop Syntax`\n",
    "    ```\n",
    "    while condition:\n",
    "        #loop body\n",
    "    ```"
   ]
  },
  {
   "cell_type": "markdown",
   "metadata": {},
   "source": [
    "# 2. Explanation: How Loops Work Internally\n",
    "\n",
    "- `for` loops :  Iterate over an iterable`(list,tuple, dicitionaries,strings,ranges etc).`\n",
    "- `while` loops : Execute repeatedly until a condition evaluates to `False`.\n",
    "- `Loops` internally use `iterators(__iter__() &  __next__())` "
   ]
  },
  {
   "cell_type": "code",
   "execution_count": 8,
   "metadata": {},
   "outputs": [
    {
     "name": "stdout",
     "output_type": "stream",
     "text": [
      "apple\n",
      "banana\n",
      "cherry\n"
     ]
    }
   ],
   "source": [
    "fruits=[\"apple\",\"banana\",\"cherry\"]\n",
    "for fruit in fruits:\n",
    "    print(fruit)"
   ]
  },
  {
   "cell_type": "markdown",
   "metadata": {},
   "source": [
    "- Python automatically calls `iter()` on `fruits` and retrieves items using `next()` internally."
   ]
  },
  {
   "cell_type": "markdown",
   "metadata": {},
   "source": [
    "# For loop with Iterators\n",
    "- A `for` loop is designed to iterate over an iterable `(like lists, tuple, or ranges)`. Internally, it uses `iterators(__iter__() and __next__())` to retrieve and process element one by one."
   ]
  },
  {
   "cell_type": "code",
   "execution_count": 9,
   "metadata": {},
   "outputs": [
    {
     "name": "stdout",
     "output_type": "stream",
     "text": [
      "1\n",
      "2\n",
      "3\n",
      "4\n"
     ]
    }
   ],
   "source": [
    "numbers=[1,2,3,4]\n",
    "# for loops uses an iterator to go through the elements\n",
    "for num in numbers:\n",
    "    print(num)"
   ]
  },
  {
   "cell_type": "markdown",
   "metadata": {},
   "source": [
    "- Here, `for num in numbers` calls the `__iter__()` method of the list numbers, which returns an iterator. The iterators `__next__()` method is used to get the next element during each iteration."
   ]
  },
  {
   "cell_type": "markdown",
   "metadata": {},
   "source": [
    "# While Loop:\n",
    "\n",
    "- A while loop repeats as long as specified condition is `True`. It doesn't rely on an iterable but check the condition at each step."
   ]
  },
  {
   "cell_type": "code",
   "execution_count": 1,
   "metadata": {},
   "outputs": [
    {
     "name": "stdout",
     "output_type": "stream",
     "text": [
      "0\n",
      "1\n",
      "2\n",
      "3\n"
     ]
    }
   ],
   "source": [
    "# Example: While loop\n",
    "count=0\n",
    "while count<4:\n",
    "    print(count)\n",
    "    count+=1"
   ]
  },
  {
   "cell_type": "code",
   "execution_count": 5,
   "metadata": {},
   "outputs": [
    {
     "name": "stdout",
     "output_type": "stream",
     "text": [
      "1\n",
      "2\n",
      "3\n",
      "4\n",
      "End of iteration reached\n"
     ]
    }
   ],
   "source": [
    "# Example of using __iter__() and __next__()\n",
    "\n",
    "#sample iterable\n",
    "numbers=[1,2,3,4]\n",
    "\n",
    "#step1: Create an iterator using __iter__()\n",
    "iterator=iter(numbers) #this calls the __iter__()method\n",
    "\n",
    "#step2: use __next__() to manually retrieves elements\n",
    "print(next(iterator))\n",
    "print(next(iterator))\n",
    "print(next(iterator))\n",
    "print(next(iterator))\n",
    "\n",
    "#if we call next() again, it will raise stopiteration because we have reached the end \n",
    "\n",
    "try:\n",
    "    print(next(iterator))\n",
    "except StopIteration:\n",
    "    print('End of iteration reached')\n"
   ]
  },
  {
   "cell_type": "markdown",
   "metadata": {},
   "source": [
    "# 3. `for` loop: Iterating Over Sequences"
   ]
  },
  {
   "cell_type": "code",
   "execution_count": 6,
   "metadata": {},
   "outputs": [
    {
     "name": "stdout",
     "output_type": "stream",
     "text": [
      "1\n",
      "2\n",
      "3\n",
      "4\n",
      "5\n"
     ]
    }
   ],
   "source": [
    "# Looping Through a list\n",
    "\n",
    "numbers=[1, 2, 3, 4, 5]\n",
    "for num in numbers:\n",
    "    print(num)"
   ]
  },
  {
   "cell_type": "markdown",
   "metadata": {},
   "source": [
    "- The `loop` automatically stops after the last elements, no need for manual indexing."
   ]
  },
  {
   "cell_type": "markdown",
   "metadata": {},
   "source": [
    "## Using `range()` in for loops\n"
   ]
  },
  {
   "cell_type": "code",
   "execution_count": 7,
   "metadata": {},
   "outputs": [
    {
     "name": "stdout",
     "output_type": "stream",
     "text": [
      "0\n",
      "1\n",
      "2\n",
      "3\n",
      "4\n"
     ]
    }
   ],
   "source": [
    "for i in range(5):\n",
    "    print(i)"
   ]
  },
  {
   "cell_type": "markdown",
   "metadata": {},
   "source": [
    "- `range(n)` generates number from `0 to n-1`.\n",
    "- `range(start, stop, step)` allow custom iteration."
   ]
  },
  {
   "cell_type": "code",
   "execution_count": 8,
   "metadata": {},
   "outputs": [
    {
     "name": "stdout",
     "output_type": "stream",
     "text": [
      "1\n",
      "3\n",
      "5\n",
      "7\n",
      "9\n"
     ]
    }
   ],
   "source": [
    "for i in range(1, 10, 2):\n",
    "    print(i)"
   ]
  },
  {
   "cell_type": "code",
   "execution_count": 10,
   "metadata": {},
   "outputs": [
    {
     "name": "stdout",
     "output_type": "stream",
     "text": [
      "P\n",
      "y\n",
      "t\n",
      "h\n",
      "o\n",
      "n\n"
     ]
    }
   ],
   "source": [
    "#Iterate over a string\n",
    "for char in \"Python\":\n",
    "    print(char)"
   ]
  },
  {
   "cell_type": "markdown",
   "metadata": {},
   "source": [
    "- Strings are iterable, allowing character-by-character iteration.\n"
   ]
  },
  {
   "cell_type": "code",
   "execution_count": 11,
   "metadata": {},
   "outputs": [
    {
     "name": "stdout",
     "output_type": "stream",
     "text": [
      "name -> abcd\n",
      "age -> 13\n"
     ]
    }
   ],
   "source": [
    "# Looping Through a dictionary\n",
    "data={\"name\":\"abcd\",\"age\":13}\n",
    "for key,value in data.items():\n",
    "    print(key, \"->\", value)"
   ]
  },
  {
   "cell_type": "markdown",
   "metadata": {},
   "source": [
    "- Use `.items()` to iterate over both `keys and values`."
   ]
  },
  {
   "cell_type": "markdown",
   "metadata": {},
   "source": [
    "# 4. `while` Loop: Conditional Iteration\n",
    "- Execution a loop until a `condition is met."
   ]
  },
  {
   "cell_type": "code",
   "execution_count": 3,
   "metadata": {},
   "outputs": [
    {
     "name": "stdout",
     "output_type": "stream",
     "text": [
      "Count 0\n",
      "Count 1\n",
      "Count 2\n",
      "Count 3\n",
      "Count 4\n"
     ]
    }
   ],
   "source": [
    "count=0\n",
    "while count<5:\n",
    "    print(\"Count\", count)\n",
    "    count+=1"
   ]
  },
  {
   "cell_type": "markdown",
   "metadata": {},
   "source": [
    "- `while` loops are useful when the number of iterations is unknown."
   ]
  },
  {
   "cell_type": "markdown",
   "metadata": {},
   "source": [
    "## Using `break` to Exit a loop"
   ]
  },
  {
   "cell_type": "code",
   "execution_count": 7,
   "metadata": {},
   "outputs": [
    {
     "name": "stdout",
     "output_type": "stream",
     "text": [
      "1\n",
      "2\n",
      "3\n",
      "4\n",
      "5\n"
     ]
    }
   ],
   "source": [
    "num=1\n",
    "while num<10:\n",
    "    print(num)\n",
    "    if num==5:\n",
    "        break #Exist loop when num  reaches 5\n",
    "    num+=1"
   ]
  },
  {
   "cell_type": "markdown",
   "metadata": {},
   "source": [
    "- `break` exits the loop immediately when the condition is met."
   ]
  },
  {
   "cell_type": "markdown",
   "metadata": {},
   "source": [
    "## Using `continue` to skip the Iteration"
   ]
  },
  {
   "cell_type": "code",
   "execution_count": 5,
   "metadata": {},
   "outputs": [
    {
     "name": "stdout",
     "output_type": "stream",
     "text": [
      "0\n",
      "1\n",
      "3\n",
      "4\n"
     ]
    }
   ],
   "source": [
    "for i in range(5):\n",
    "    if i==2:\n",
    "        continue #skip the rest of the loop body for i=2\n",
    "    print(i)"
   ]
  },
  {
   "cell_type": "markdown",
   "metadata": {},
   "source": [
    "- `continue` skips only the current iteration but keeps the loop running.\n"
   ]
  },
  {
   "cell_type": "markdown",
   "metadata": {},
   "source": [
    "# 5. Nested Loops :  Looping Inside a Loop\n"
   ]
  },
  {
   "cell_type": "code",
   "execution_count": 8,
   "metadata": {},
   "outputs": [
    {
     "name": "stdout",
     "output_type": "stream",
     "text": [
      "i=0,j=0\n",
      "i=0,j=1\n",
      "i=1,j=0\n",
      "i=1,j=1\n",
      "i=2,j=0\n",
      "i=2,j=1\n"
     ]
    }
   ],
   "source": [
    "# Example of a Nested Loop\n",
    "for i in range(3):\n",
    "    for j in range(2):\n",
    "        print(f\"i={i},j={j}\")"
   ]
  },
  {
   "cell_type": "code",
   "execution_count": 9,
   "metadata": {},
   "outputs": [
    {
     "name": "stdout",
     "output_type": "stream",
     "text": [
      "i=1, j=5\n",
      "i=1, j=6\n",
      "i=2, j=5\n",
      "i=2, j=6\n",
      "i=3, j=5\n",
      "i=3, j=6\n"
     ]
    }
   ],
   "source": [
    "for i in range(1, 4):  # i starts from 1 to 3\n",
    "    for j in range(5, 7):  # j starts from 5 to 6\n",
    "        print(f\"i={i}, j={j}\")\n"
   ]
  },
  {
   "cell_type": "markdown",
   "metadata": {},
   "source": [
    "- Nested loops are useful for processing `matrices and multidimensional data`."
   ]
  },
  {
   "cell_type": "markdown",
   "metadata": {},
   "source": [
    "# 6. Looping with `else`: Execution code after completion\n",
    "\n",
    "- Using `else` in `for and while` loops."
   ]
  },
  {
   "cell_type": "code",
   "execution_count": 10,
   "metadata": {},
   "outputs": [
    {
     "name": "stdout",
     "output_type": "stream",
     "text": [
      "0\n",
      "1\n",
      "2\n",
      "Loop completed\n"
     ]
    }
   ],
   "source": [
    "for i in range(3):\n",
    "    print(i)\n",
    "else:\n",
    "    print(\"Loop completed\")"
   ]
  },
  {
   "cell_type": "markdown",
   "metadata": {},
   "source": [
    "- The `else` block only runs if the loops completes `all iterations normally.\n",
    "- The loops `must not interrupted by break.`"
   ]
  },
  {
   "cell_type": "markdown",
   "metadata": {},
   "source": [
    "## When `else` Does not Execute"
   ]
  },
  {
   "cell_type": "code",
   "execution_count": 11,
   "metadata": {},
   "outputs": [
    {
     "name": "stdout",
     "output_type": "stream",
     "text": [
      "0\n"
     ]
    }
   ],
   "source": [
    "for i in range(3):\n",
    "    if i==1:\n",
    "        break\n",
    "    print(i)\n",
    "else:\n",
    "    print(\"loops completed\")"
   ]
  },
  {
   "cell_type": "markdown",
   "metadata": {},
   "source": [
    "- Since `break` was used, `else` is skipped."
   ]
  },
  {
   "cell_type": "markdown",
   "metadata": {},
   "source": [
    "# 7. Performance Optimization for Loops\n",
    "\n",
    "- `Using List Comprehensions instead of loops` : A `list comprehension` create a `list` by evaluating all elements immediately.\n",
    "- It `stores all values in memory`, which can be inefficient for large datasets.\n",
    "- It is `efficient for small datasets` but can consume a `lot of memory` for large datasets."
   ]
  },
  {
   "cell_type": "code",
   "execution_count": 15,
   "metadata": {},
   "outputs": [
    {
     "name": "stdout",
     "output_type": "stream",
     "text": [
      "[0, 1, 4, 9, 16]\n",
      "5\n"
     ]
    }
   ],
   "source": [
    "# not use this\n",
    "squares=[]\n",
    "for x in range(5):\n",
    "    squares.append(x**2)\n",
    "print(squares)\n"
   ]
  },
  {
   "cell_type": "code",
   "execution_count": 14,
   "metadata": {},
   "outputs": [
    {
     "name": "stdout",
     "output_type": "stream",
     "text": [
      "[0, 1, 4, 9, 16]\n"
     ]
    }
   ],
   "source": [
    "# Use this\n",
    "squares=[x**2 for x in range(5)]\n",
    "print(squares)"
   ]
  },
  {
   "cell_type": "markdown",
   "metadata": {},
   "source": [
    "- `List comprehension` are `faster and more memory-efficient`."
   ]
  },
  {
   "cell_type": "markdown",
   "metadata": {},
   "source": [
    "# Using `enumerate()` instead of `range(len())`\n",
    "\n",
    "- Using `enumerate()`, we can directly access both the `index` and `value` without using `range(len())`.\n"
   ]
  },
  {
   "cell_type": "code",
   "execution_count": 16,
   "metadata": {},
   "outputs": [
    {
     "name": "stdout",
     "output_type": "stream",
     "text": [
      "0 apple\n",
      "1 banana\n",
      "2 cherry\n"
     ]
    }
   ],
   "source": [
    "# Example using range(len()) (less readable)\n",
    "fruits=[\"apple\",\"banana\",\"cherry\"]\n",
    "for i in range(len(fruits)):\n",
    "    print(i, fruits[i])"
   ]
  },
  {
   "cell_type": "code",
   "execution_count": 19,
   "metadata": {},
   "outputs": [
    {
     "name": "stdout",
     "output_type": "stream",
     "text": [
      "0 apple\n",
      "1 banana\n",
      "2 cherry\n"
     ]
    }
   ],
   "source": [
    "# Example: Using enumerate()(more readable)\n",
    "fruits=[\"apple\",\"banana\",\"cherry\"]\n",
    "for index, fruit in enumerate(fruits):\n",
    "    print(index,fruit)\n",
    "\n"
   ]
  },
  {
   "cell_type": "markdown",
   "metadata": {},
   "source": [
    "- With `range(len())`, you manually handle indexing, which increases the risks of errors like `off-by-one mistakes.`\n",
    "- `enumerate()` automatically keep track of the index, reducing errors."
   ]
  },
  {
   "cell_type": "markdown",
   "metadata": {},
   "source": [
    "# Using `zip()` for Iterating Multiple Sequences\n"
   ]
  },
  {
   "cell_type": "code",
   "execution_count": 22,
   "metadata": {},
   "outputs": [
    {
     "name": "stdout",
     "output_type": "stream",
     "text": [
      "Raghav Khandelwal is 21 years old\n",
      "gorank is 3 years old\n",
      "abc is 2 years old\n"
     ]
    }
   ],
   "source": [
    "names=[\"Raghav Khandelwal\",\"gorank\",\"abc\"]\n",
    "ages=[21,3,2]\n",
    "\n",
    "for name,age in zip(names,ages):\n",
    "    print(name, 'is',age, \"years old\")"
   ]
  },
  {
   "cell_type": "markdown",
   "metadata": {},
   "source": [
    "- `zip()` pairs elements from multiple iterable efficiently."
   ]
  },
  {
   "cell_type": "markdown",
   "metadata": {},
   "source": [
    "# 8. Generator Expression : Memory-Efficient Iteration\n",
    "\n",
    "- `Using Generator Instead of Lists` : A generator expression creates a `generator object` that yield value one by one on demand. It does not `store all elements in memory`, making it more efficient.\n",
    "- Returns a `generator object`.\n",
    "- Ideal for `large datasets` because it saves memory."
   ]
  },
  {
   "cell_type": "code",
   "execution_count": 23,
   "metadata": {},
   "outputs": [
    {
     "name": "stdout",
     "output_type": "stream",
     "text": [
      "<generator object <genexpr> at 0x0000017B2C9DFC60>\n"
     ]
    }
   ],
   "source": [
    "# Using Generators Instead of the lists\n",
    "squares=(x**2 for x in range(5)) #uses generator expression\n",
    "print(squares)"
   ]
  },
  {
   "cell_type": "markdown",
   "metadata": {},
   "source": [
    "- Unlike list comprehensions, generators `do not share data in memory`.\n",
    "- `Useful for large datasets` without memory overhead."
   ]
  },
  {
   "cell_type": "markdown",
   "metadata": {},
   "source": [
    "# 9. `Infinite Loops` : Handling & Prevention\n",
    "\n",
    "## Avoiding Infinite Loops in `while`\n"
   ]
  },
  {
   "cell_type": "code",
   "execution_count": 24,
   "metadata": {},
   "outputs": [
    {
     "name": "stdout",
     "output_type": "stream",
     "text": [
      "0\n",
      "1\n",
      "2\n",
      "3\n",
      "4\n"
     ]
    }
   ],
   "source": [
    "count=0\n",
    "while count<5:\n",
    "    print(count)\n",
    "    count+=1"
   ]
  },
  {
   "cell_type": "markdown",
   "metadata": {},
   "source": [
    "- Always ensures `while` conditions `eventually become False`."
   ]
  },
  {
   "cell_type": "code",
   "execution_count": 26,
   "metadata": {},
   "outputs": [
    {
     "name": "stdout",
     "output_type": "stream",
     "text": [
      "Existing loop\n"
     ]
    }
   ],
   "source": [
    "# Manual breaking an Infinite Loop\n",
    "while True:\n",
    "    user_input=input(\"Enter, 'exit' to quit\")\n",
    "    if user_input.lower()==\"exit\":\n",
    "        print(\"Existing loop\")\n",
    "        break"
   ]
  },
  {
   "cell_type": "code",
   "execution_count": 27,
   "metadata": {},
   "outputs": [
    {
     "name": "stdout",
     "output_type": "stream",
     "text": [
      "Login successful\n"
     ]
    }
   ],
   "source": [
    "# Example: User Authentication System(using while loop)\n",
    "correct_username=\"admin\"\n",
    "correct_password=\"password123\"\n",
    "\n",
    "while True:\n",
    "    username=input(\"Enter Username: \")\n",
    "    password=input(\"Enter password: \")\n",
    "    \n",
    "    if username==correct_username and password==correct_password:\n",
    "        print(\"Login successful\")\n",
    "        break # Exist the loop when credentials are correct\n",
    "    else:\n",
    "        print(\"Invalid creadential. Try again.\")"
   ]
  },
  {
   "cell_type": "code",
   "execution_count": 31,
   "metadata": {},
   "outputs": [
    {
     "name": "stdout",
     "output_type": "stream",
     "text": [
      "Total sales for the week: $10800\n"
     ]
    }
   ],
   "source": [
    "# Example: Calculating Total Sales(Iterating Over a List of Data with for loop)\n",
    "\n",
    "daily_sales=[1200, 1500, 900, 2000, 1800, 2100, 1300]\n",
    "total_sales=0\n",
    "for sales in daily_sales:\n",
    "    total_sales +=sales\n",
    "    \n",
    "print(f\"Total sales for the week: ${total_sales}\")"
   ]
  },
  {
   "cell_type": "code",
   "execution_count": 32,
   "metadata": {},
   "outputs": [
    {
     "name": "stdout",
     "output_type": "stream",
     "text": [
      "Valid emails ['user1@example.com', 'user3@domain.com']\n"
     ]
    }
   ],
   "source": [
    "# Filtering Out Invalid Email Addresses(Filetering Data with for and if)\n",
    "\n",
    "emails=[\"user1@example.com\",\"user2\",\"user3@domain.com\",\"invalid-emails\"]\n",
    "valid_emails=[]\n",
    "for email in emails:\n",
    "    if \"@\" in email:\n",
    "        valid_emails.append(email)\n",
    "print(\"Valid emails\",valid_emails)"
   ]
  },
  {
   "cell_type": "code",
   "execution_count": 35,
   "metadata": {},
   "outputs": [
    {
     "name": "stdout",
     "output_type": "stream",
     "text": [
      "5 X 1= 5\n",
      "5 X 2= 10\n",
      "5 X 3= 15\n",
      "5 X 4= 20\n",
      "5 X 5= 25\n",
      "5 X 6= 30\n",
      "5 X 7= 35\n",
      "5 X 8= 40\n",
      "5 X 9= 45\n",
      "5 X 10= 50\n"
     ]
    }
   ],
   "source": [
    "# Generating a Multiplication Table(Using range() to Generate a Sequence)\n",
    "number=5\n",
    "for i in range(1,11): #from 1 to 10\n",
    "    print(f\"{number} X {i}= {number*i}\")"
   ]
  },
  {
   "cell_type": "code",
   "execution_count": 36,
   "metadata": {},
   "outputs": [
    {
     "name": "stdout",
     "output_type": "stream",
     "text": [
      "1 2 3 \n",
      "4 5 6 \n",
      "7 8 9 \n"
     ]
    }
   ],
   "source": [
    "# Processing a Matrix(2D List) Nested loops for Multi-dimensional data\n",
    "\n",
    "matrix=[\n",
    "    [1,2,3],\n",
    "    [4,5,6],\n",
    "    [7,8,9]\n",
    "]\n",
    "for row in matrix:\n",
    "    for element in row:\n",
    "        print(element,end=\" \") #print each element in the row\n",
    "    print() #Move to the next line after each row"
   ]
  },
  {
   "cell_type": "code",
   "execution_count": 38,
   "metadata": {},
   "outputs": [
    {
     "name": "stdout",
     "output_type": "stream",
     "text": [
      "Rank 1: Alice\n",
      "Rank 2: Bob\n",
      "Rank 3: Charlie\n",
      "Rank 4: Diana\n"
     ]
    }
   ],
   "source": [
    "# Example: Displaying Leaderboard Rankings(Using enumerate() for indexed iteration)\n",
    "\n",
    "# Real-world example: Leaderboard rankings\n",
    "players = [\"Alice\", \"Bob\", \"Charlie\", \"Diana\"]\n",
    "\n",
    "for rank, player in enumerate(players, start=1):\n",
    "    print(f\"Rank {rank}: {player}\")"
   ]
  },
  {
   "cell_type": "code",
   "execution_count": 39,
   "metadata": {},
   "outputs": [
    {
     "name": "stdout",
     "output_type": "stream",
     "text": [
      "Alice scored 85%\n",
      "Bob scored 90%\n",
      "Charlie scored 78%\n"
     ]
    }
   ],
   "source": [
    "# Example: Pairing Student with Grades(Using zip() to iterate over Multiple Lists)\n",
    "\n",
    "students=[\"Alice\",\"Bob\",\"Charlie\"]\n",
    "grades=[85,90,78]\n",
    "\n",
    "for student, grade in zip(students, grades):\n",
    "    print(f\"{student} scored {grade}%\")"
   ]
  },
  {
   "cell_type": "code",
   "execution_count": null,
   "metadata": {},
   "outputs": [],
   "source": []
  }
 ],
 "metadata": {
  "kernelspec": {
   "display_name": "Python 3",
   "language": "python",
   "name": "python3"
  },
  "language_info": {
   "codemirror_mode": {
    "name": "ipython",
    "version": 3
   },
   "file_extension": ".py",
   "mimetype": "text/x-python",
   "name": "python",
   "nbconvert_exporter": "python",
   "pygments_lexer": "ipython3",
   "version": "3.12.0"
  }
 },
 "nbformat": 4,
 "nbformat_minor": 2
}
