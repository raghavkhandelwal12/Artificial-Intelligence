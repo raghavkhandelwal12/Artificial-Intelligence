{
 "cells": [
  {
   "cell_type": "markdown",
   "metadata": {},
   "source": [
    "## Why Python? A language for Every Need\n",
    "### Python Overview(Short Version)\n",
    "\n",
    "- `Why Python`?\n",
    "    - Automates tasks like file management,custom apps,and games.\n",
    "    - Faster and simpler than C/C++/Java for development.\n",
    "\n",
    "- `Key Features`:\n",
    "    - High-level languages with built-in data types(arrays,dictionaries).\n",
    "    - Support modular and resuasble programming.\n",
    "    - Interpreted and interactive,great for quick testing and prototyping.\n",
    "\n",
    "- `Advantages`:\n",
    "    - Concise and readable code using indentation instead of brackets.\n",
    "    - No variable or argument declarations required.\n",
    "    - Extensive standard library for file I/O,system call,GUIs,etc.\n",
    "\n",
    "- `Extensibility`:\n",
    "    - Integrates with C for adding functions or linking external libraries.\n",
    "\n",
    "- `Fun Fact`:\n",
    "    - Named after monty python's flying circus,not the snake."
   ]
  },
  {
   "cell_type": "markdown",
   "metadata": {},
   "source": []
  }
 ],
 "metadata": {
  "language_info": {
   "name": "python"
  }
 },
 "nbformat": 4,
 "nbformat_minor": 2
}
